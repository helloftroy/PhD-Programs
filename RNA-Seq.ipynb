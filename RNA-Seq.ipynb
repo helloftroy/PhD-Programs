{
 "cells": [
  {
   "cell_type": "code",
   "execution_count": 2,
   "metadata": {},
   "outputs": [],
   "source": [
    "# Compute RNA-Seq coverage \n",
    "from Bio import SeqIO\n",
    "import pandas as pd\n",
    "from Bio.Seq import Seq\n",
    "my_file = open('/Users/hellpark/Desktop/Bioinformatics/Halomonas WT TD01.fa')\n",
    "td10 = my_file.read()\n",
    "td10 = td10.replace('\\n','')\n",
    "td10 = Seq(td10)"
   ]
  },
  {
   "cell_type": "code",
   "execution_count": 19,
   "metadata": {},
   "outputs": [
    {
     "data": {
      "text/plain": [
       "4188508"
      ]
     },
     "execution_count": 19,
     "metadata": {},
     "output_type": "execute_result"
    }
   ],
   "source": [
    "td10[0:63]\n",
    "len(td10)"
   ]
  },
  {
   "cell_type": "code",
   "execution_count": 5,
   "metadata": {},
   "outputs": [],
   "source": [
    "#read in and make a dataframe\n",
    "df = pd.ExcelFile('/Users/hellpark/Desktop/Bioinformatics/genomic annotation of TD Chromosome-3rd seq-Version3.0.xlsx').parse('New Rank') \n",
    "df = pd.DataFrame(df, columns = ['Protein Name', 'Nucleotide', 'NaCl 60 g/L','Start','Stop', 'Together'])"
   ]
  },
  {
   "cell_type": "code",
   "execution_count": 6,
   "metadata": {},
   "outputs": [],
   "source": [
    "for i in df.index:\n",
    "    gene = Seq(df.at[i,'Nucleotide'])\n",
    "    start = td10.find(gene)\n",
    "    if start > 0:\n",
    "        df.at[i,'Start'] = start\n",
    "    else: df.at[i,'Start'] = td10.find(gene.reverse_complement())"
   ]
  },
  {
   "cell_type": "code",
   "execution_count": 7,
   "metadata": {},
   "outputs": [],
   "source": [
    "#make stop the length of the gene\n",
    "df['Stop'] = df['Start'] + len(df['Nucleotide'])"
   ]
  },
  {
   "cell_type": "code",
   "execution_count": 8,
   "metadata": {},
   "outputs": [],
   "source": [
    "#sort and reindex\n",
    "df = df.sort_values('Start')\n",
    "df = df.reset_index(drop=True)"
   ]
  },
  {
   "cell_type": "code",
   "execution_count": 9,
   "metadata": {},
   "outputs": [
    {
     "name": "stdout",
     "output_type": "stream",
     "text": [
      "Sum all transcriptome: 2881126.0\n",
      "percent of genome: % 69.6462988152428\n"
     ]
    }
   ],
   "source": [
    "#counts up # nucleotides genes actually cover\n",
    "for i in df.index:\n",
    "    if i > 7:\n",
    "        if df.at[i,'Start'] < df.at[i-1,'Stop']:\n",
    "            df.at[i,'Together'] = df.at[i-1,'Stop']-df.at[i,'Start']\n",
    "        else: df.at[i,'Together'] = df.at[i,'Stop']-df.at[i,'Start']\n",
    "\n",
    "sum_bp = 0\n",
    "for i in df.index:\n",
    "    if i > 7: sum_bp += df.at[i,'Together']\n",
    "print(\"Sum all transcriptome:\", sum_bp) \n",
    "print(\"percent of genome: %\", sum_bp/len(td10)*100)\n",
    "        "
   ]
  },
  {
   "cell_type": "code",
   "execution_count": 10,
   "metadata": {},
   "outputs": [
    {
     "data": {
      "text/html": [
       "<div>\n",
       "<style scoped>\n",
       "    .dataframe tbody tr th:only-of-type {\n",
       "        vertical-align: middle;\n",
       "    }\n",
       "\n",
       "    .dataframe tbody tr th {\n",
       "        vertical-align: top;\n",
       "    }\n",
       "\n",
       "    .dataframe thead th {\n",
       "        text-align: right;\n",
       "    }\n",
       "</style>\n",
       "<table border=\"1\" class=\"dataframe\">\n",
       "  <thead>\n",
       "    <tr style=\"text-align: right;\">\n",
       "      <th></th>\n",
       "      <th>Protein Name</th>\n",
       "      <th>Nucleotide</th>\n",
       "      <th>NaCl 60 g/L</th>\n",
       "      <th>Start</th>\n",
       "      <th>Stop</th>\n",
       "      <th>Together</th>\n",
       "    </tr>\n",
       "  </thead>\n",
       "  <tbody>\n",
       "    <tr>\n",
       "      <th>20</th>\n",
       "      <td>hypothetical protein</td>\n",
       "      <td>atgaatatgctcgtccactcccccaaaccacttatccagtttggtg...</td>\n",
       "      <td>2996</td>\n",
       "      <td>42155.0</td>\n",
       "      <td>44260.0</td>\n",
       "      <td>535.0</td>\n",
       "    </tr>\n",
       "    <tr>\n",
       "      <th>21</th>\n",
       "      <td>two-component sensor histidine kinase</td>\n",
       "      <td>atgagttctattcgccagcgcaccctggggcttgcgttgcttgtgt...</td>\n",
       "      <td>44</td>\n",
       "      <td>42875.0</td>\n",
       "      <td>44980.0</td>\n",
       "      <td>1385.0</td>\n",
       "    </tr>\n",
       "    <tr>\n",
       "      <th>22</th>\n",
       "      <td>DNA-binding response regulator</td>\n",
       "      <td>atgcgcattttactggttgaagacgacccaagcttggcatcgggga...</td>\n",
       "      <td>61</td>\n",
       "      <td>44313.0</td>\n",
       "      <td>46418.0</td>\n",
       "      <td>667.0</td>\n",
       "    </tr>\n",
       "    <tr>\n",
       "      <th>23</th>\n",
       "      <td>nourseothricin acetyltransferase</td>\n",
       "      <td>atgacacgtcattcttctttcggccaccgctccttagcctacacag...</td>\n",
       "      <td>151</td>\n",
       "      <td>45022.0</td>\n",
       "      <td>47127.0</td>\n",
       "      <td>1396.0</td>\n",
       "    </tr>\n",
       "    <tr>\n",
       "      <th>24</th>\n",
       "      <td>ATP-dependent DNA helicase Rep</td>\n",
       "      <td>atgacgccccaaccgccaaagagcattcttagccgcattaaagggc...</td>\n",
       "      <td>73</td>\n",
       "      <td>47105.0</td>\n",
       "      <td>49210.0</td>\n",
       "      <td>22.0</td>\n",
       "    </tr>\n",
       "  </tbody>\n",
       "</table>\n",
       "</div>"
      ],
      "text/plain": [
       "                             Protein Name  \\\n",
       "20                   hypothetical protein   \n",
       "21  two-component sensor histidine kinase   \n",
       "22         DNA-binding response regulator   \n",
       "23       nourseothricin acetyltransferase   \n",
       "24         ATP-dependent DNA helicase Rep   \n",
       "\n",
       "                                           Nucleotide  NaCl 60 g/L    Start  \\\n",
       "20  atgaatatgctcgtccactcccccaaaccacttatccagtttggtg...         2996  42155.0   \n",
       "21  atgagttctattcgccagcgcaccctggggcttgcgttgcttgtgt...           44  42875.0   \n",
       "22  atgcgcattttactggttgaagacgacccaagcttggcatcgggga...           61  44313.0   \n",
       "23  atgacacgtcattcttctttcggccaccgctccttagcctacacag...          151  45022.0   \n",
       "24  atgacgccccaaccgccaaagagcattcttagccgcattaaagggc...           73  47105.0   \n",
       "\n",
       "       Stop  Together  \n",
       "20  44260.0     535.0  \n",
       "21  44980.0    1385.0  \n",
       "22  46418.0     667.0  \n",
       "23  47127.0    1396.0  \n",
       "24  49210.0      22.0  "
      ]
     },
     "execution_count": 10,
     "metadata": {},
     "output_type": "execute_result"
    }
   ],
   "source": [
    "df[20:25]"
   ]
  },
  {
   "cell_type": "code",
   "execution_count": 11,
   "metadata": {},
   "outputs": [
    {
     "data": {
      "text/html": [
       "<div>\n",
       "<style scoped>\n",
       "    .dataframe tbody tr th:only-of-type {\n",
       "        vertical-align: middle;\n",
       "    }\n",
       "\n",
       "    .dataframe tbody tr th {\n",
       "        vertical-align: top;\n",
       "    }\n",
       "\n",
       "    .dataframe thead th {\n",
       "        text-align: right;\n",
       "    }\n",
       "</style>\n",
       "<table border=\"1\" class=\"dataframe\">\n",
       "  <thead>\n",
       "    <tr style=\"text-align: right;\">\n",
       "      <th></th>\n",
       "      <th>Protein Name</th>\n",
       "      <th>Nucleotide</th>\n",
       "      <th>NaCl 60 g/L</th>\n",
       "      <th>Start</th>\n",
       "      <th>Stop</th>\n",
       "      <th>Together</th>\n",
       "    </tr>\n",
       "  </thead>\n",
       "  <tbody>\n",
       "    <tr>\n",
       "      <th>0</th>\n",
       "      <td>hypothetical protein</td>\n",
       "      <td>gtgctaaacctcagtgggccgtaccccaataacgagcacgaacgtt...</td>\n",
       "      <td>1</td>\n",
       "      <td>-1.0</td>\n",
       "      <td>2104.0</td>\n",
       "      <td>NaN</td>\n",
       "    </tr>\n",
       "    <tr>\n",
       "      <th>1</th>\n",
       "      <td>hypothetical protein</td>\n",
       "      <td>gtgcagccaaagacagggctgcaagtggaacgcgcggtcgtgtctt...</td>\n",
       "      <td>10</td>\n",
       "      <td>-1.0</td>\n",
       "      <td>2104.0</td>\n",
       "      <td>NaN</td>\n",
       "    </tr>\n",
       "    <tr>\n",
       "      <th>2</th>\n",
       "      <td>hypothetical protein</td>\n",
       "      <td>atggcgcgcacgcgatccgtacaggccgctgaggcgcatttgtggc...</td>\n",
       "      <td>717</td>\n",
       "      <td>-1.0</td>\n",
       "      <td>2104.0</td>\n",
       "      <td>NaN</td>\n",
       "    </tr>\n",
       "    <tr>\n",
       "      <th>3</th>\n",
       "      <td>hypothetical protein</td>\n",
       "      <td>atggccatccgtaaacttagcgacctcaaacccgtgtttagcagtg...</td>\n",
       "      <td>1255</td>\n",
       "      <td>-1.0</td>\n",
       "      <td>2104.0</td>\n",
       "      <td>NaN</td>\n",
       "    </tr>\n",
       "    <tr>\n",
       "      <th>4</th>\n",
       "      <td>replication protein</td>\n",
       "      <td>atgcacgatgcccaaatatataaagccaatgcactgatcgaagcgt...</td>\n",
       "      <td>93</td>\n",
       "      <td>-1.0</td>\n",
       "      <td>2104.0</td>\n",
       "      <td>NaN</td>\n",
       "    </tr>\n",
       "    <tr>\n",
       "      <th>5</th>\n",
       "      <td>MFS transporter</td>\n",
       "      <td>gtgcaagtgcttagccgtcacccgctcgccacgattgtcatcgccc...</td>\n",
       "      <td>19</td>\n",
       "      <td>-1.0</td>\n",
       "      <td>2104.0</td>\n",
       "      <td>NaN</td>\n",
       "    </tr>\n",
       "    <tr>\n",
       "      <th>6</th>\n",
       "      <td>hypothetical protein</td>\n",
       "      <td>atgcaactaactattccccaagtcgcaaagctctacggaaaacacc...</td>\n",
       "      <td>424</td>\n",
       "      <td>-1.0</td>\n",
       "      <td>2104.0</td>\n",
       "      <td>NaN</td>\n",
       "    </tr>\n",
       "    <tr>\n",
       "      <th>7</th>\n",
       "      <td>hypothetical protein</td>\n",
       "      <td>atgtgggggctgcaccgtgcggatgtccgtaccgctgttgatcagg...</td>\n",
       "      <td>26</td>\n",
       "      <td>-1.0</td>\n",
       "      <td>2104.0</td>\n",
       "      <td>NaN</td>\n",
       "    </tr>\n",
       "  </tbody>\n",
       "</table>\n",
       "</div>"
      ],
      "text/plain": [
       "           Protein Name                                         Nucleotide  \\\n",
       "0  hypothetical protein  gtgctaaacctcagtgggccgtaccccaataacgagcacgaacgtt...   \n",
       "1  hypothetical protein  gtgcagccaaagacagggctgcaagtggaacgcgcggtcgtgtctt...   \n",
       "2  hypothetical protein  atggcgcgcacgcgatccgtacaggccgctgaggcgcatttgtggc...   \n",
       "3  hypothetical protein  atggccatccgtaaacttagcgacctcaaacccgtgtttagcagtg...   \n",
       "4   replication protein  atgcacgatgcccaaatatataaagccaatgcactgatcgaagcgt...   \n",
       "5       MFS transporter  gtgcaagtgcttagccgtcacccgctcgccacgattgtcatcgccc...   \n",
       "6  hypothetical protein  atgcaactaactattccccaagtcgcaaagctctacggaaaacacc...   \n",
       "7  hypothetical protein  atgtgggggctgcaccgtgcggatgtccgtaccgctgttgatcagg...   \n",
       "\n",
       "   NaCl 60 g/L  Start    Stop  Together  \n",
       "0            1   -1.0  2104.0       NaN  \n",
       "1           10   -1.0  2104.0       NaN  \n",
       "2          717   -1.0  2104.0       NaN  \n",
       "3         1255   -1.0  2104.0       NaN  \n",
       "4           93   -1.0  2104.0       NaN  \n",
       "5           19   -1.0  2104.0       NaN  \n",
       "6          424   -1.0  2104.0       NaN  \n",
       "7           26   -1.0  2104.0       NaN  "
      ]
     },
     "execution_count": 11,
     "metadata": {},
     "output_type": "execute_result"
    }
   ],
   "source": [
    "#which aren't found in the genome?\n",
    "df[df['Start']==-1]"
   ]
  },
  {
   "cell_type": "code",
   "execution_count": 18,
   "metadata": {},
   "outputs": [],
   "source": [
    "import matplotlib.pyplot as plt"
   ]
  },
  {
   "cell_type": "code",
   "execution_count": 25,
   "metadata": {},
   "outputs": [
    {
     "data": {
      "text/plain": [
       "<Figure size 432x288 with 0 Axes>"
      ]
     },
     "metadata": {},
     "output_type": "display_data"
    },
    {
     "data": {
      "image/png": "[encoded data removed]",
      "text/plain": [
       "<Figure size 1080x432 with 1 Axes>"
      ]
     },
     "metadata": {
      "needs_background": "light"
     },
     "output_type": "display_data"
    }
   ],
   "source": [
    "plt.figure()\n",
    "fig, ax1 = plt.subplots(figsize=(15,6))\n",
    "ax1.set_xlabel('Gene Location on TD1.0 Sequence', size=17)\n",
    "ax1.set_ylabel('Gene Expression', size=15)\n",
    "x = df['Start']\n",
    "activity = df['NaCl 60 g/L']\n",
    "ax1.plot(x,activity,color='black',label='gene')\n",
    "for i in df.index:\n",
    "    if df.at[i, 'NaCl 60 g/L'] > 10000:\n",
    "        ax1.annotate(df.at[i, 'Protein Name'], (df.at[i, 'Start'],df.at[i, 'NaCl 60 g/L']))\n",
    "plt.show()"
   ]
  },
  {
   "cell_type": "code",
   "execution_count": 31,
   "metadata": {},
   "outputs": [
    {
     "data": {
      "text/plain": [
       "'gtgatgaacaaggccgcagagaaatccacccagcagtttgagtctgtctttgtatcgccaatgcgttcttataccttggcagcgcttgactactatcagcaggttgttagcgcgcaaatggatgcagcacgtgcttactcagatatgactattgcccaggcacgtacatggttagacgtgaaagatgccgacagcttcaaaaaagccatggaaagtcagcaaaaaacagcgtctgacctaatggagcgcatgaaaggagactctgaaaaagtcacctctattagccaaaactttatgcaagagagtcagaaaatggcggaagagaccactaaaaaagcagtggaaactgctaagcaataa'"
      ]
     },
     "execution_count": 31,
     "metadata": {},
     "output_type": "execute_result"
    }
   ],
   "source": [
    "df[df['NaCl 60 g/L'] > 10000]\n",
    "df.at[435, 'Nucleotide']"
   ]
  },
  {
   "cell_type": "code",
   "execution_count": 32,
   "metadata": {},
   "outputs": [],
   "source": [
    "#blast anything with very high reads\n",
    "from Bio.Blast import NCBIWWW\n",
    "from Bio.Blast import NCBIXML\n",
    "result_handle = NCBIWWW.qblast(\"blastn\", \"nt\", df.at[435, 'Nucleotide'])\n",
    "blast_record = NCBIXML.read(result_handle)"
   ]
  },
  {
   "cell_type": "code",
   "execution_count": 39,
   "metadata": {},
   "outputs": [
    {
     "name": "stdout",
     "output_type": "stream",
     "text": [
      "****Alignment****\n",
      "sequence: gi|1175809314|gb|CP020562.1| Halomonas sp. GT, complete genome\n",
      "length: 4158464\n",
      "e value: 2.9635e-155\n",
      "GTGATGAACAAGGCCGCAGAGAAATCCACCCAGCAGTTTGAGTCTGTCTTTGTATCGCCAATGCGTTCTTATACCTTGGCAGCGCTTGACTACTATCAGCAGGTTGTTAGCGCGCAAATGGATGCAGCACGTGCTTACTCAGATATGACTATTGCCCAGGCACGTACATGGTTAGACGTGAAAGATGCCGACAGCTTCAAAAAAGCCATGGAAAGTCAGCAAAAAACAGCGTCTGACCTAATGGAGCGCATGAAAGGAGACTCTGAAAAAGTCACCTCTATTAGCCAAAACTTTATGCAAGAGAGTCAGAAAATGGCGGAAGAGACCACTAAAAAAGCAGTGGAAACTGCTAAGCAATAA\n",
      "|||||||||||||||||||||||||| ||||||||||||||||||||||||||||||||||||||||||||||||||||||||||||||||||||||||||||| || |||||||||||||||||||||||| | ||||| || ||| | ||||| |||||||| |||||||||||||| |||||||||||||||||||||||||| |||||||||||||||||||||||||||||||||||||||||||||||||| |||||||||||||||||| |||||||||||||||||||||||||||| || ||||||||||||||||||||||| |||||||||||||| |||||||| |||\n",
      "GTGATGAACAAGGCCGCAGAGAAATCTACCCAGCAGTTTGAGTCTGTCTTTGTATCGCCAATGCGTTCTTATACCTTGGCAGCGCTTGACTACTATCAGCAGGTCGTCAGCGCGCAAATGGATGCAGCACGTTCATACTCTGACATGGCAATTGCTCAGGCACGCACATGGTTAGACGTTAAAGATGCCGACAGCTTCAAAAAAGCGATGGAAAGTCAGCAAAAAACAGCGTCTGACCTAATGGAGCGCATGAAAGGCGACTCTGAAAAAGTCACCGCTATTAGCCAAAACTTTATGCAAGAGAGCCAAAAAATGGCGGAAGAGACCACTAAGAAAGCAGTGGAAACCGCTAAGCAGTAA\n",
      "****Alignment****\n",
      "sequence: gi|641739997|gb|CP007757.1| Halomonas campaniensis strain LS21, complete genome\n",
      "length: 4074048\n",
      "e value: 1.26011e-153\n",
      "GTGATGAACAAGGCCGCAGAGAAATCCACCCAGCAGTTTGAGTCTGTCTTTGTATCGCCAATGCGTTCTTATACCTTGGCAGCGCTTGACTACTATCAGCAGGTTGTTAGCGCGCAAATGGATGCAGCACGTGCTTACTCAGATATGACTATTGCCCAGGCACGTACATGGTTAGACGTGAAAGATGCCGACAGCTTCAAAAAAGCCATGGAAAGTCAGCAAAAAACAGCGTCTGACCTAATGGAGCGCATGAAAGGAGACTCTGAAAAAGTCACCTCTATTAGCCAAAACTTTATGCAAGAGAGTCAGAAAATGGCGGAAGAGACCACTAAAAAAGCAGTGGAAACTGCTAAGCAATAA\n",
      "||||||||||||||||||||||||||||||||||||||||||||||||||||||||||||||||||||||||||| ||||||||||||| || |||||||| || || |||||||||||||||||||||||||| ||||| ||||||||  |||| |||||||| |||||||||||||| ||||||||||||||||| ||||||||||||||||||||||||||||| || ||||||||||||||||| ||||||||||||||||||||||||||||| ||||||||||||||||||||||||||||||||||||||||||||||||||||| |||||||||||||| |||||||| |||\n",
      "GTGATGAACAAGGCCGCAGAGAAATCCACCCAGCAGTTTGAGTCTGTCTTTGTATCGCCAATGCGTTCTTATACCCTGGCAGCGCTTGATTATTATCAGCAAGTCGTCAGCGCGCAAATGGATGCAGCACGTGCATACTCTGATATGACGGTTGCTCAGGCACGCACATGGTTAGACGTTAAAGATGCCGACAGCTTTAAAAAAGCCATGGAAAGTCAGCAAAAAACGGCTTCTGACCTAATGGAGCGTATGAAAGGAGACTCTGAAAAAGTCACCTCGATTAGCCAAAACTTTATGCAAGAGAGTCAGAAAATGGCGGAAGAGACCACTAAGAAAGCAGTGGAAACCGCTAAGCAGTAA\n",
      "****Alignment****\n",
      "sequence: gi|1486369259|gb|CP024811.1| Halomonas alkaliphila X3, complete sequence\n",
      "length: 4029514\n",
      "e value: 1.53513e-152\n",
      "GTGATGAACAAGGCCGCAGAGAAATCCACCCAGCAGTTTGAGTCTGTCTTTGTATCGCCAATGCGTTCTTATACCTTGGCAGCGCTTGACTACTATCAGCAGGTTGTTAGCGCGCAAATGGATGCAGCACGTGCTTACTCAGATATGACTATTGCCCAGGCACGTACATGGTTAGACGTGAAAGATGCCGACAGCTTCAAAAAAGCCATGGAAAGTCAGCAAAAAACAGCGTCTGACCTAATGGAGCGCATGAAAGGAGACTCTGAAAAAGTCACCTCTATTAGCCAAAACTTTATGCAAGAGAGTCAGAAAATGGCGGAAGAGACCACTAAAAAAGCAGTGGAAACTGCTAAGCAATAA\n",
      "||||||||||||||||||||||||||||||||||||||||||||||||||||||||||||||||||||||||||| ||||||||||||| || |||||||| || || |||||||||||||||||||||||||| ||||| || |||||  |||| |||||||| |||||||||||||| ||||||||||||||||| |||||||| ||||||||||||||||||||||| ||||||||||||||||| ||||||||||||||||||||||||||||| ||||||||||||||||||||||||||||||||||||||||||||||||||||| |||||||||||||| |||||||| |||\n",
      "GTGATGAACAAGGCCGCAGAGAAATCCACCCAGCAGTTTGAGTCTGTCTTTGTATCGCCAATGCGTTCTTATACCCTGGCAGCGCTTGATTATTATCAGCAAGTCGTCAGCGCGCAAATGGATGCAGCACGTGCATACTCTGACATGACGGTTGCTCAGGCACGCACATGGTTAGACGTTAAAGATGCCGACAGCTTTAAAAAAGCTATGGAAAGTCAGCAAAAAACAGCTTCTGACCTAATGGAGCGTATGAAAGGAGACTCTGAAAAAGTCACCTCGATTAGCCAAAACTTTATGCAAGAGAGTCAGAAAATGGCGGAAGAGACCACTAAGAAAGCAGTGGAAACCGCTAAGCAGTAA\n",
      "****Alignment****\n",
      "sequence: gi|1214953341|gb|CP022286.1| Halomonas sp. N3-2A genome\n",
      "length: 4723828\n",
      "e value: 1.53513e-152\n",
      "GTGATGAACAAGGCCGCAGAGAAATCCACCCAGCAGTTTGAGTCTGTCTTTGTATCGCCAATGCGTTCTTATACCTTGGCAGCGCTTGACTACTATCAGCAGGTTGTTAGCGCGCAAATGGATGCAGCACGTGCTTACTCAGATATGACTATTGCCCAGGCACGTACATGGTTAGACGTGAAAGATGCCGACAGCTTCAAAAAAGCCATGGAAAGTCAGCAAAAAACAGCGTCTGACCTAATGGAGCGCATGAAAGGAGACTCTGAAAAAGTCACCTCTATTAGCCAAAACTTTATGCAAGAGAGTCAGAAAATGGCGGAAGAGACCACTAAAAAAGCAGTGGAAACTGCTAAGCAATAA\n",
      "||||||||||||||||||||||||||||||||||||||||||||||||||||||||||||||||||||||||||| ||||||||||||| || |||||||| ||||| |||||||||||||||||||||||||| ||||| ||||||||  |||| |||||||| |||||||||||||| ||||||||||||||||| ||||||||||||||||| |||||||||||||| ||||||||||||||||| ||||||||||||||||||||||||||||| |||||||||||||||||||||||||| |||||||||||||||||||||||||| ||||| |||||||| |||||||| |||\n",
      "GTGATGAACAAGGCCGCAGAGAAATCCACCCAGCAGTTTGAGTCTGTCTTTGTATCGCCAATGCGTTCTTATACCCTGGCAGCGCTTGATTATTATCAGCAAGTTGTCAGCGCGCAAATGGATGCAGCACGTGCATACTCTGATATGACGGTTGCTCAGGCACGCACATGGTTAGACGTTAAAGATGCCGACAGCTTTAAAAAAGCCATGGAAAGCCAGCAAAAAACAGCCTCTGACCTAATGGAGCGTATGAAAGGAGACTCTGAAAAAGTCACCTCCATTAGCCAAAACTTTATGCAAGAGAGCCAGAAAATGGCGGAAGAGACCACTAAGAAAGCCGTGGAAACCGCTAAGCAGTAA\n",
      "****Alignment****\n",
      "sequence: gi|1982217618|gb|CP066539.1| Halomonas venusta strain 4743 chromosome\n",
      "length: 4276113\n",
      "e value: 4.11932e-147\n",
      "GTGATGAACAAGGCCGCAGAGAAATCCACCCAGCAGTTTGAGTCTGTCTTTGTATCGCCAATGCGTTCTTATACCTTGGCAGCGCTTGACTACTATCAGCAGGTTGTTAGCGCGCAAATGGATGCAGCACGTGCTTACTCAGATATGACTATTGCCCAGGCACGTACATGGTTAGACGTGAAAGATGCCGACAGCTTCAAAAAAGCCATGGAAAGTCAGCAAAAAACAGCGTCTGACCTAATGGAGCGCATGAAAGGAGACTCTGAAAAAGTCACCTCTATTAGCCAAAACTTTATGCAAGAGAGTCAGAAAATGGCGGAAGAGACCACTAAAAAAGCAGTGGAAACTGCTAAGCAATAA\n",
      "||||||||||||||||||||||||||||||||||||||||||||||||||||||||||||||||||||||||||| |||| |||||||| || |||||||| ||||| |||||||| ||||||||||||||||| ||||| || |||||  |||||||||| || |||||||||||||| ||||||||||||||||| ||||||||||||||||| |||||||||||||| |||||||| ||||||||||||||||| |||||||||||||||||||| |||||||||||||||||||||||||| ||||||||||||||||||||||| |||||||| |||||||| |||||||| |||\n",
      "GTGATGAACAAGGCCGCAGAGAAATCCACCCAGCAGTTTGAGTCTGTCTTTGTATCGCCAATGCGTTCTTATACCCTGGCGGCGCTTGATTATTATCAGCAAGTTGTCAGCGCGCAGATGGATGCAGCACGTGCATACTCTGACATGACGGTTGCCCAGGCGCGCACATGGTTAGACGTTAAAGATGCCGACAGCTTTAAAAAAGCCATGGAAAGCCAGCAAAAAACAGCTTCTGACCTGATGGAGCGCATGAAAGGGGACTCTGAAAAAGTCACCTCCATTAGCCAAAACTTTATGCAAGAGAGCCAGAAAATGGCGGAAGAGACCACAAAAAAAGCCGTGGAAACCGCTAAGCAGTAA\n",
      "****Alignment****\n",
      "sequence: gi|1820235283|dbj|AP022843.1| Halomonas hydrothermalis Slthf2 DNA, complete genome\n",
      "length: 4120823\n",
      "e value: 1.75158e-145\n",
      "GTGATGAACAAGGCCGCAGAGAAATCCACCCAGCAGTTTGAGTCTGTCTTTGTATCGCCAATGCGTTCTTATACCTTGGCAGCGCTTGACTACTATCAGCAGGTTGTTAGCGCGCAAATGGATGCAGCACGTGCTTACTCAGATATGACTATTGCCCAGGCACGTACATGGTTAGACGTGAAAGATGCCGACAGCTTCAAAAAAGCCATGGAAAGTCAGCAAAAAACAGCGTCTGACCTAATGGAGCGCATGAAAGGAGACTCTGAAAAAGTCACCTCTATTAGCCAAAACTTTATGCAAGAGAGTCAGAAAATGGCGGAAGAGACCACTAAAAAAGCAGTGGAAACTGCTAAGCAATAA\n",
      "||||||||||||||||||||||||||||||||||||||||||||||||||||||||||||||||||||||||||| |||| |||||||| || |||||||| ||||| |||||||| ||||||||||||||||| ||||| || |||||  |||||||||| || |||||||||||||| ||||||||||||||||| ||||||||||||||||| |||||||||||||| |||||||| ||||||||||||||||| |||||||||||||||||||| |||||||||||||||||||||||||| ||||||||||||||||||||||| || ||||| |||||||| |||||||| |||\n",
      "GTGATGAACAAGGCCGCAGAGAAATCCACCCAGCAGTTTGAGTCTGTCTTTGTATCGCCAATGCGTTCTTATACCCTGGCGGCGCTTGATTATTATCAGCAAGTTGTCAGCGCGCAGATGGATGCAGCACGTGCATACTCTGACATGACGGTTGCCCAGGCGCGCACATGGTTAGACGTTAAAGATGCCGACAGCTTTAAAAAAGCCATGGAAAGCCAGCAAAAAACAGCTTCTGACCTGATGGAGCGCATGAAAGGGGACTCTGAAAAAGTCACCTCCATTAGCCAAAACTTTATGCAAGAGAGCCAGAAAATGGCGGAAGAGACCACAAAGAAAGCCGTGGAAACCGCTAAGCAGTAA\n",
      "****Alignment****\n",
      "sequence: gi|1537016988|gb|CP034367.1| Halomonas venusta strain MA-ZP17-13 chromosome, complete genome\n",
      "length: 4446698\n",
      "e value: 1.75158e-145\n",
      "GTGATGAACAAGGCCGCAGAGAAATCCACCCAGCAGTTTGAGTCTGTCTTTGTATCGCCAATGCGTTCTTATACCTTGGCAGCGCTTGACTACTATCAGCAGGTTGTTAGCGCGCAAATGGATGCAGCACGTGCTTACTCAGATATGACTATTGCCCAGGCACGTACATGGTTAGACGTGAAAGATGCCGACAGCTTCAAAAAAGCCATGGAAAGTCAGCAAAAAACAGCGTCTGACCTAATGGAGCGCATGAAAGGAGACTCTGAAAAAGTCACCTCTATTAGCCAAAACTTTATGCAAGAGAGTCAGAAAATGGCGGAAGAGACCACTAAAAAAGCAGTGGAAACTGCTAAGCAATAA\n",
      "||||||||||||||||||||||||||||||||||||||||||||||||||||||||||||||||||||||||||| |||| |||||||| || |||||||| ||||| |||||||| ||||||||||||||||| ||||| || |||||  |||||||||| || |||||||||||||| ||||||||||||||||| ||||||||||||||||| |||||||||||||| |||||||| ||||||||||||||||| |||||||||||||||||||| |||||||||||||||||||||||||| ||||||||||||||||||||||| || ||||| |||||||| |||||||| |||\n",
      "GTGATGAACAAGGCCGCAGAGAAATCCACCCAGCAGTTTGAGTCTGTCTTTGTATCGCCAATGCGTTCTTATACCCTGGCGGCGCTTGATTATTATCAGCAAGTTGTCAGCGCGCAGATGGATGCAGCACGTGCATACTCTGACATGACGGTTGCCCAGGCGCGCACATGGTTAGACGTTAAAGATGCCGACAGCTTTAAAAAAGCCATGGAAAGCCAGCAAAAAACAGCTTCTGACCTGATGGAGCGCATGAAAGGGGACTCTGAAAAAGTCACCTCCATTAGCCAAAACTTTATGCAAGAGAGCCAGAAAATGGCGGAAGAGACCACAAAGAAAGCCGTGGAAACCGCTAAGCAGTAA\n",
      "****Alignment****\n",
      "sequence: gi|1937088809|gb|CP065135.1| Halomonas venusta strain PBH chromosome, complete genome\n",
      "length: 4437754\n",
      "e value: 1.75158e-145\n",
      "GTGATGAACAAGGCCGCAGAGAAATCCACCCAGCAGTTTGAGTCTGTCTTTGTATCGCCAATGCGTTCTTATACCTTGGCAGCGCTTGACTACTATCAGCAGGTTGTTAGCGCGCAAATGGATGCAGCACGTGCTTACTCAGATATGACTATTGCCCAGGCACGTACATGGTTAGACGTGAAAGATGCCGACAGCTTCAAAAAAGCCATGGAAAGTCAGCAAAAAACAGCGTCTGACCTAATGGAGCGCATGAAAGGAGACTCTGAAAAAGTCACCTCTATTAGCCAAAACTTTATGCAAGAGAGTCAGAAAATGGCGGAAGAGACCACTAAAAAAGCAGTGGAAACTGCTAAGCAATAA\n",
      "||||||||||||||||||||||||||||||||||||||||||||||||||||||||||||||||||||||||||| |||| |||||||| || |||||||| ||||| |||||||| ||||||||||||||||| ||||| || |||||  |||||||||| || |||||||||||||| ||||||||||||||||| ||||||||||||||||| |||||||||||||| |||||||| ||||||||||||||||| |||||||||||||||||||| |||||||||||||||||||||||||| ||||||||||||||||||||||| || ||||| |||||||| |||||||| |||\n",
      "GTGATGAACAAGGCCGCAGAGAAATCCACCCAGCAGTTTGAGTCTGTCTTTGTATCGCCAATGCGTTCTTATACCCTGGCGGCGCTTGATTATTATCAGCAAGTTGTCAGCGCGCAGATGGATGCAGCACGTGCATACTCTGACATGACGGTTGCCCAGGCGCGCACATGGTTAGACGTTAAAGATGCCGACAGCTTTAAAAAAGCCATGGAAAGCCAGCAAAAAACAGCTTCTGACCTGATGGAGCGCATGAAAGGGGACTCTGAAAAAGTCACCTCCATTAGCCAAAACTTTATGCAAGAGAGCCAGAAAATGGCGGAAGAGACCACAAAGAAAGCCGTGGAAACCGCTAAGCAGTAA\n",
      "****Alignment****\n",
      "sequence: gi|1832159315|gb|CP048602.1| Halomonas piezotolerans strain NBT06E8 chromosome, complete genome\n",
      "length: 3945801\n",
      "e value: 5.73607e-101\n",
      "GTGATGAACAAGGCCGCAGAGAAATCCACCCAGCAGTTTGAGTCTGTCTTTGTATCGCCAATGCGTTCTTATACCTTGGCAGCGCTTGACTACTATCAGCAGGTTGTTAGCGCGCAAATGGATGCAGCACGTGCTTACTCAGATATGACTATTGCCCAGGCACGTACATGGTTAGACGTGAAAGATGCCGACAGCTTCAAAAAAGCCATGGAAAGTCAGCAAAAAACAGCGTCTGACCTAATGGAGCGCATGAAAGGAGACTCTGAAAAAGTCACCTCTATTAGCCAAAACTTTATGCAAGAGAGTCAGAAAATGGCGGAAGAGACCACTAAAAAAGCAGTGGAAACTGCTAAGCAATAA\n",
      "|||||||||||||||||||| ||| ||| ||| ||||| || ||||| || || || || ||||||||||| ||  | || |||||  |||||||  ||||| | ||  |||| || ||||||||||| ||||| ||||| || ||||| || ||||| || ||||||||||||||||||||||| || ||||||||||||||||| ||||| || ||||||||||| ||  | || |||||||||||||||||||| |||||||||||||||||||| |||||||| | ||| |||||||| || ||||||||||| ||||| ||||| || ||||| || || ||||| ||||| |||\n",
      "GTGATGAACAAGGCCGCAGAAAAAACCAGCCAACAGTTCGACTCTGTTTTCGTGTCCCCGATGCGTTCTTACACGCTCGCTGCGCTGAACTACTACGAGCAGCTAGTGGGCGCTCAGATGGATGCAGCCCGTGCCTACTCCGACATGACCATCGCCCAAGCGCGTACATGGTTAGACGTGAAAGACGCGGACAGCTTCAAAAAAGCGATGGAGAGCCAGCAAAAAACCGCTACCGATCTAATGGAGCGCATGAAAGGCGACTCTGAAAAAGTCACCTCCATTAGCCAGAGCTTCATGCAAGACAGCCAGAAAATGGCCGAAGAAACCACCAAGAAAGCGGTAGAGACTGCCAAGCAGTAA\n",
      "****Alignment****\n",
      "sequence: gi|1823812328|dbj|AP022869.1| Halomonas meridiana Eplume2 DNA, complete genome\n",
      "length: 4118995\n",
      "e value: 2.97136e-98\n",
      "GTGATGAACAAGGCCGCAGAGAAATCCACCCAGCAGTTTGAGTCTGTCTTTGTATCGCCAATGCGTTCTTATACCTTGGCAGCGCTTGACTACTATCAGCAGGTTGTTAGCGCGCAAATGGATGCAGCACGTGCTTACTCAGATATGACTATTGCCCAGGCACGTACATGGTTAGACGTGAAAGATGCCGACAGCTTCAAAAAAGCCATGGAAAGTCAGCAAAAAACAGCGTCTGACCTAATGGAGCGCATGAAAGGAGACTCTGAAAAAGTCACCTCTATTAGCCAAAACTTTATGCAAGAGAGTCAGAAAATGGCGGAAGAGACCACTAAAAAAGCAGTGGAAACTGCTAAGCAATAA\n",
      "|||||||||||||||||||||||| |||  |||||||| ||||| || || || || || |||||||| || || ||||| || ||  |||||||  ||||| | ||  ||||||| ||||| || ||||| |||||||| || ||||| |||||||| || || |||||||||||||| ||||| || ||||||||||||||||| ||||| || ||||||||||| ||  | || || ||||||||||||||||| ||||||||||||||||| ||||| ||||| | ||| |||||||| || ||||||||||| ||||| || || || ||||| || || ||||||||||| |||\n",
      "GTGATGAACAAGGCCGCAGAGAAAACCAGTCAGCAGTTCGAGTCGGTATTCGTGTCCCCCATGCGTTCCTACACGTTGGCGGCACTGAACTACTACGAGCAGCTGGTCGGCGCGCAGATGGACGCTGCACGCGCTTACTCCGACATGACCATTGCCCAAGCGCGCACATGGTTAGACGTAAAAGACGCGGACAGCTTCAAAAAAGCGATGGAGAGCCAGCAAAAAACTGCTGCCGATCTGATGGAGCGCATGAAAGGCGACTCTGAAAAAGTCACTTCTATCAGCCAGAGCTTCATGCAAGACAGCCAGAAAATGGCCGAAGAAACGACCAAGAAAGCGGTAGAGACTGCTAAGCAGTAA\n",
      "****Alignment****\n",
      "sequence: gi|1792542471|gb|CP024621.1| Halomonas meridiana strain SCSIO 43005 chromosome, complete genome\n",
      "length: 3860077\n",
      "e value: 2.97136e-98\n",
      "GTGATGAACAAGGCCGCAGAGAAATCCACCCAGCAGTTTGAGTCTGTCTTTGTATCGCCAATGCGTTCTTATACCTTGGCAGCGCTTGACTACTATCAGCAGGTTGTTAGCGCGCAAATGGATGCAGCACGTGCTTACTCAGATATGACTATTGCCCAGGCACGTACATGGTTAGACGTGAAAGATGCCGACAGCTTCAAAAAAGCCATGGAAAGTCAGCAAAAAACAGCGTCTGACCTAATGGAGCGCATGAAAGGAGACTCTGAAAAAGTCACCTCTATTAGCCAAAACTTTATGCAAGAGAGTCAGAAAATGGCGGAAGAGACCACTAAAAAAGCAGTGGAAACTGCTAAGCAATAA\n",
      "|||||||||||||||||||| ||| ||| ||||||||| ||||| || || || || || |||||||| || || ||||| || ||  |||||||  ||||| | ||  ||||||| ||||||||||| ||||| ||||| || ||||| || || || || ||||| |||||||||||||||||||| || |||||||||||||| ||||| || ||||||||||| ||  | || || ||||||||||||||||| ||||||||||||||||| ||||| ||||||| ||| |||||||| || ||||||||||| ||||| || || || ||||| || || ||||| ||||| |||\n",
      "GTGATGAACAAGGCCGCAGATAAAACCAGCCAGCAGTTCGAGTCGGTATTCGTGTCCCCCATGCGTTCCTACACGTTGGCGGCACTGAACTACTACGAGCAGCTGGTCGGCGCGCAGATGGATGCAGCCCGTGCCTACTCCGACATGACCATCGCTCAAGCGCGTACGTGGTTAGACGTGAAAGATGCGGATAGCTTCAAAAAAGCGATGGAGAGCCAGCAAAAAACTGCTGCCGATCTGATGGAGCGCATGAAAGGCGACTCTGAAAAAGTCACTTCTATCAGCCAAAGCTTCATGCAAGACAGCCAGAAAATGGCCGAAGAAACGACCAAGAAAGCGGTAGAGACTGCCAAGCAGTAA\n",
      "****Alignment****\n",
      "sequence: gi|1707062289|dbj|AP019517.2| Halomonas axialensis Althf1 DNA, complete genome\n",
      "length: 3619799\n",
      "e value: 2.13952e-87\n",
      "GTGATGAACAAGGCCGCAGAGAAATCCACCCAGCAGTTTGAGTCTGTCTTTGTATCGCCAATGCGTTCTTATACCTTGGCAGCGCTTGACTACTATCAGCAGGTTGTTAGCGCGCAAATGGATGCAGCACGTGCTTACTCAGATATGACTATTGCCCAGGCACGTACATGGTTAGACGTGAAAGATGCCGACAGCTTCAAAAAAGCCATGGAAAGTCAGCAAAAAACAGCGTCTGACCTAATGGAGCGCATGAAAGGAGACTCTGAAAAAGTCACCTCTATTAGCCAAAACTTTATGCAAGAGAGTCAGAAAATGGCGGAAGAGACCACTAAAAAAGCAGTGGAAACTGCTAAGCAATAA\n",
      "|| |||||||||||  |||||||| ||| |||||||||||| || || |||||||| || ||||| ||||||||  | |||||| | || || ||| ||||  | || ||||| ||||| ||||| || || |||||||| |||||||| ||| |||| || ||||| ||| |||| ||||||||||| || |||||||| || || ||||| || |||| |||||| ||  | || || ||||||||||||||||| ||||||||||||||||| ||||| |||||   ||| |||||||| || ||||||||||| ||||| || || || ||||| || || ||||| ||||| |||\n",
      "GTAATGAACAAGGCTACAGAGAAAACCAACCAGCAGTTTGACTCCGTTTTTGTATCACCGATGCGCTCTTATACGCTCGCAGCGTTGGATTATTATGAGCAACTGGTCAGCGCCCAAATTGATGCGGCTCGCGCTTACTCTGATATGACCATTTCCCAAGCGCGTACTTGGCTAGATGTGAAAGATGCAGATAGCTTCAAGAAGGCGATGGAGAGCCAGC-AAAAACTGCTGCCGATCTGATGGAGCGCATGAAAGGCGACTCTGAAAAAGTCACTTCTATCAGCCAGGGCTTCATGCAAGACAGCCAGAAAATGGCCGAAGAAACGACCAAGAAAGCGGTAGAGACTGCCAAGCAGTAA\n",
      "****Alignment****\n",
      "sequence: gi|1250063396|gb|CP023656.1| Halomonas hydrothermalis strain Y2 chromosome, complete genome\n",
      "length: 3933432\n",
      "e value: 1.1083e-84\n",
      "GTGATGAACAAGGCCGCAGAGAAATCCACCCAGCAGTTTGAGTCTGTCTTTGTATCGCCAATGCGTTCTTATACCTTGGCAGCGCTTGACTACTATCAGCAGGTTGTTAGCGCGCAAATGGATGCAGCACGTGCTTACTCAGATATGACTATTGCCCAGGCACGTACATGGTTAGACGTGAAAGATGCCGACAGCTTCAAAAAAGCCATGGAAAGTCAGCAAAAAACAGCGTCTGACCTAATGGAGCGCATGAAAGGAGACTCTGAAAAAGTCACCTCTATTAGCCAAAACTTTATGCAAGAGAGTCAGAAAATGGCGGAAGAGACCACTAAAAAAGCAGTGGAAACTGCTAA\n",
      "|||||||||||| | ||||| ||| ||| ||||||||| ||||| || ||||| || || ||||| ||||| ||  |||||||||| ||||||||  ||||  | ||  |||| ||||||||||| ||||| || || || || ||||| || |||||||| || || ||| | ||||| ||||| ||||| || ||||| |||||||||||||| ||||| ||| | ||    ||| | ||||||||||||||||| ||||| |||||||| |||||||| |||||   |||  |||| || |||||||||||||||||||||||||| || |||||||  || ||||| ||\n",
      "GTGATGAACAAGACAGCAGAAAAAACCAGCCAGCAGTTCGAGTCCGTGTTTGTTTCACCCATGCGCTCTTACACACTGGCAGCGCTGGACTACTACGAGCAACTGGTCGGCGCTCAAATGGATGCTGCACGCGCCTATTCCGACATGACCATCGCCCAGGCGCGCACCTGGCTCGACGTCAAAGACGCCGATAGTTTCAAGAAAGCCATGGAAAGCCAGCAGAAAGCGGCCAGCGACATGATGGAGCGCATGAAAGGTGACTCCGAAAAAGTGACCTCTATCAGCCAGGGCTTCCTGCAGGAAAGTCAGAAAATGGCGGAAGAGACCACCAAGAAAGCAGCCGATACTGCCAA\n",
      "****Alignment****\n",
      "sequence: gi|1352483683|gb|CP016490.1| Halomonas sp. GFAJ-1 chromosome, complete genome\n",
      "length: 3650492\n",
      "e value: 2.4412e-80\n",
      "GAGAAATCCACCCAGCAGTTTGAGTCTGTCTTTGTATCGCCAATGCGTTCTTATACCTTGGCAGCGCTTGACTACTATCAGCAGGTTGTTAGCGCGCAAATGGATGCAGCACGTGCTTACTCAGATATGACTATTGCCCAGGCACGTACATGGTTAGACGTGAAAGATGCCGACAGCTTCAAAAAAGCCATGGAAAGTCAGCAAAAAACAGCGTCTGACCTAATGGAGCGCATGAAAGGAGACTCTGAAAAAGTCACCTCTATTAGCCAAAACTTTATGCAAGAGAGTCAGAAAATGGCGGAAGAGACCACTAAAAAAGCAGTGGAAACTGCTAAGCAATAA\n",
      "|| ||| | | ||||||| ||||||| |  ||  || |||||||||| ||||||||  ||||||||||||| |||||| ||  | || | |  || ||  | ||||| || ||||| |||||||| |||||  | || ||||| || || ||| ||||||| |||||||| ||  |||| || |||||||||||||| ||||||||||| || |||||||| |||||||| |||||||| || ||||| |||||||| ||||| ||||||| ||||||| |||| ||| |||||||| | |||||||  ||||||||||| || ||| ||| |||||| |||\n",
      "GAAAAAACTAACCAGCAGCTTGAGTCCGCATTCTTAACGCCAATGCGCTCTTATACTCTGGCAGCGCTTGATTACTATGAGTTGCTTCTCAATGCCCAGTTAGATGCGGCGCGTGCATACTCAGACATGACGGTCGCTCAGGCGCGCACCTGGCTAGACGTTAAAGATGCGGAAGGCTTTAAGAAAGCCATGGAAAGCCAGCAAAAAACCGCTTCTGACCTGATGGAGCGTATGAAAGGCGATTCTGAGAAAGTCACTTCTATCAGCCAAAGCTTTATGGAAGATAGTAAGAAAATGACTGAAGAGAGTACTAAAAAAGCGGTTGAAGCTGTTAAGCAGTAA\n",
      "****Alignment****\n",
      "sequence: gi|1373519590|gb|CP020469.1| Halomonas sp. 'Soap Lake #6' chromosome, complete genome\n",
      "length: 4803686\n",
      "e value: 1.26457e-77\n",
      "ATGAACAAGGCCGCAGAGAAATCCACCCAGCAGTTTGAGTCTGTCTTTGTATCGCCAATGCGTTCTTATACCTTGGCAGCGCTTGACTACTATCAGCAGGTTGTTAGCGCGCAAATGGATGCAGCACGTGCTTACTCAGATATGACTATTGCCCAGGCACGTACATGGTTAGACGTGAAAGATGCCGACAGCTTCAAAAAAGCCATGGAAAGTCAGCAAAAAACAGCGTCTGACCTAATGGAGCGCATGAAAGGAGACTCTGAAAAAGTCACCTCTATTAGCCAAAACTTTATGCAAGAGAGTCAGAAAATGGCGGAAGAGACCACTAAAAAAGCAGTGGAAACTGCTAAGCAATAA\n",
      "||||| ||| | |  || ||| | | ||| ||| |||| ||    ||  || ||||||||||||| |||||  || | ||||||||||||||| ||| | |  | || || ||  | ||||| || ||||||||||| |||||||| ||||||||||| || || ||||| ||||| |||||||| ||  ||||||||||||| |||||||| ||||| |||||   |||||||||  |||||||||||||||| ||||| || ||||| ||||| || |||||||  |||||| |||| || ||||| ||||| |||||   ||| || |||||  |||||||||||||||| |||\n",
      "ATGAATAAGACTGTCGAAAAAACTAACCAACAGATTGAATCCACATTCATAACGCCAATGCGTTCCTATACGCTGTCGGCGCTTGACTACTATGAGCTGCTCTTCAGTGCTCAGTTAGATGCTGCGCGTGCTTACTCGGATATGACCATTGCCCAGGCGCGCACCTGGTTGGACGTTAAAGATGCAGAGGGCTTCAAAAAAGCGATGGAAAGCCAGCAGAAAACCATGTCTGACCTGTTGGAGCGCATGAAAGGTGACTCAGAGAAAGTAACCTCAATCAGCCAAAGTTTTATGAAAGATAGCCAGAAGATGGCTGAAGAAGGCACCAAGAAAGCGCTGGAAACTGCTAAGCAGTAA\n",
      "****Alignment****\n",
      "sequence: gi|1150898677|gb|CP019915.1| Halomonas sp. 'Soap Lake #7', complete genome\n",
      "length: 4803686\n",
      "e value: 1.26457e-77\n",
      "ATGAACAAGGCCGCAGAGAAATCCACCCAGCAGTTTGAGTCTGTCTTTGTATCGCCAATGCGTTCTTATACCTTGGCAGCGCTTGACTACTATCAGCAGGTTGTTAGCGCGCAAATGGATGCAGCACGTGCTTACTCAGATATGACTATTGCCCAGGCACGTACATGGTTAGACGTGAAAGATGCCGACAGCTTCAAAAAAGCCATGGAAAGTCAGCAAAAAACAGCGTCTGACCTAATGGAGCGCATGAAAGGAGACTCTGAAAAAGTCACCTCTATTAGCCAAAACTTTATGCAAGAGAGTCAGAAAATGGCGGAAGAGACCACTAAAAAAGCAGTGGAAACTGCTAAGCAATAA\n",
      "||||| ||| | |  || ||| | | ||| ||| |||| ||    ||  || ||||||||||||| |||||  || | ||||||||||||||| ||| | |  | || || ||  | ||||| || ||||||||||| |||||||| ||||||||||| || || ||||| ||||| |||||||| ||  ||||||||||||| |||||||| ||||| |||||   |||||||||  |||||||||||||||| ||||| || ||||| ||||| || |||||||  |||||| |||| || ||||| ||||| |||||   ||| || |||||  |||||||||||||||| |||\n",
      "ATGAATAAGACTGTCGAAAAAACTAACCAACAGATTGAATCCACATTCATAACGCCAATGCGTTCCTATACGCTGTCGGCGCTTGACTACTATGAGCTGCTCTTCAGTGCTCAGTTAGATGCTGCGCGTGCTTACTCGGATATGACCATTGCCCAGGCGCGCACCTGGTTGGACGTTAAAGATGCAGAGGGCTTCAAAAAAGCGATGGAAAGCCAGCAGAAAACCATGTCTGACCTGTTGGAGCGCATGAAAGGTGACTCAGAGAAAGTAACCTCAATCAGCCAAAGTTTTATGAAAGATAGCCAGAAGATGGCTGAAGAAGGCACCAAGAAAGCGCTGGAAACTGCTAAGCAGTAA\n",
      "****Alignment****\n",
      "sequence: gi|1818168464|dbj|AP022821.1| Halomonas meridiana Slthf1 DNA, complete genome\n",
      "length: 3591816\n",
      "e value: 4.41378e-77\n",
      "GTGATGAACAAGGCCGCAGAGAAATCCACCCA---------GCAGTTTGAGTCTGTCTTTGTATCGCCAATGCGTTCTTATACCTTGGCAGCGCTTGACTACTATCAGCAGGTTGTTAGCGCGCAAATGGATGCAGCACGTGCTTACTCAGATATGACTATTGCCCAGGCACGTACATGGTTAGACGTGAAAGATGCCGACAGCTTCAAAAAAGCCATGGAAAGTCAGCAAAAAACAGCGTCTGACCTAATGGAGCGCATGAAAGGAGACTCTGAAAAAGTCACCTCTATTAGCCAAAACTTTATGCAAGAGAGTCAGAAAATGGCGGAAGAGACCACTAAAAAAGCAGTGGAAACTGCTAAGCAATAA\n",
      "|| ||||| |||||  |||||||  ||| |||         ||||||||||||  | |||||||| || ||||| || |||||  | ||||| || || |||||| ||||  ||||| | || ||||| || || || || || ||  | |||||||| ||||| || || ||||| ||| |||| |||||||||||||| ||||||||||| || ||||| || ||||| ||| | ||  |||||||||||||||| |||||||| || |||||||||||||||||||| ||||||| ||| ||||||||||||||||| |  || || || || || || |||||||  ||| | || ||||| |||\n",
      "GTAATGAATAAGGCAACAGAGAAGACCAACCAACAGCAACAGCAGTTTGAGTCCATTTTTGTATCACCGATGCGCTCCTATACGCTTGCAGCCCTAGATTACTATGAGCAACTTGTTGGGGCTCAAATCGACGCCGCTCGCGCCTATACCGATATGACGATTGCTCAAGCGCGTACTTGGCTAGATGTGAAAGATGCCGATAGCTTCAAAAAGGCGATGGAGAGCCAGCAGAAAGCGGCCACTGACCTAATGGAGCGTATGAAAGGGGATTCTGAAAAAGTCACCTCTATCAGCCAAAGCTTCATGCAAGAGAGTCAGAAGAAAGCCGAGGAAACTACCAAGAAAGCAGCAGAAGCCGCCAAGCATTAA\n",
      "****Alignment****\n",
      "sequence: gi|1240292510|emb|LT907845.1| Halomonas sp. hl-4 genome assembly, chromosome: I\n",
      "length: 4238682\n",
      "e value: 5.37709e-76\n",
      "ATGAACAAGGCCGCAGAGAAATCCACCCAGCAGTTTGAGTCTGTCTTTGTATCGCCAATGCGTTCTTATACCTTGGCAGCGCTTGACTACTATCAGCAGGTTGTTAGCGCGCAAATGGATGCAGCACGTGCTTACTCAGATATGACTATTGCCCAGGCACGTACATGGTTAGACGTGAAAGATGCCGACAGCTTCAAAAAAGCCATGGAAAGTCAGCAAAAAACAGCGTCTGACCTAATGGAGCGCATGAAAGGAGACTCTGAAAAAGTCACCTCTATTAGCCAAAACTTTATGCAAGAGAGTCAGAAAATGGCGGAAGAGACCACTAAAAAAGCAGTGGAAACTGCTAAGCAATAA\n",
      "|||||||| ||||| || ||| ||| ||||||  | |||||  ||||||||||||| ||||||||||| ||  || | || || ||||||||  | ||| | || ||||||||  | || || |  ||||||||||| ||  ||| | |||||||||| || || ||| | ||||||||||||||||||||||||||||| ||  ||||||| ||||| ||||| ||   ||| ||  ||||||| |||||||| ||    || ||||| || || || ||||||| ||| ||| |||| || ||||||||||| ||||| ||||| || ||||| || ||||| |||||||| |||\n",
      "ATGAACAAAGCCGCCGAAAAAACCAGCCAGCAAGTCGAGTCCATCTTTGTATCGCCGATGCGTTCTTACACGCTGACGGCACTGGACTACTACGATCAGATCGTAAGCGCGCAGCTCGACGCTGTTCGTGCTTACTCGGACCTGAGTGTTGCCCAGGCCCGCACTTGGCTGGACGTGAAAGATGCCGACAGCTTCAAAAAGGCACTGGAAAGCCAGCAGAAAACTGCCAGTGATCTTTTGGAGCGTATGAAAGGCGATGGCGAGAAAGTTACTTCCATCAGCCAAAGCTTCATGAAAGACAGCCAGAAAATGGCCGAAGACACCACCAAGAAAGCGGTAGAAACGGCTAAGCAGTAA\n",
      "****Alignment****\n",
      "sequence: gi|1036082207|emb|LT593974.1| Halomonas sp. HL-93 genome assembly, chromosome: I\n",
      "length: 4144542\n",
      "e value: 5.37709e-76\n",
      "ATGAACAAGGCCGCAGAGAAATCCACCCAGCAGTTTGAGTCTGTCTTTGTATCGCCAATGCGTTCTTATACCTTGGCAGCGCTTGACTACTATCAGCAGGTTGTTAGCGCGCAAATGGATGCAGCACGTGCTTACTCAGATATGACTATTGCCCAGGCACGTACATGGTTAGACGTGAAAGATGCCGACAGCTTCAAAAAAGCCATGGAAAGTCAGCAAAAAACAGCGTCTGACCTAATGGAGCGCATGAAAGGAGACTCTGAAAAAGTCACCTCTATTAGCCAAAACTTTATGCAAGAGAGTCAGAAAATGGCGGAAGAGACCACTAAAAAAGCAGTGGAAACTGCTAAGCAATAA\n",
      "|||||||| ||||| || ||| ||| ||||||  | |||||  ||||||||||||| ||||||||||| ||  || | || || ||||||||  | ||| | || ||||||||  | || || |  ||||||||||| ||  ||| | |||||||||| || || ||| | ||||||||||||||||||||||||||||| ||  ||||||| ||||| ||||| ||   ||| ||  ||||||| |||||||| ||    || ||||| || || || ||||||| ||| ||| |||| || ||||||||||| ||||| ||||| || ||||| || ||||| |||||||| |||\n",
      "ATGAACAAAGCCGCCGAAAAAACCAGCCAGCAAGTCGAGTCCATCTTTGTATCGCCGATGCGTTCTTACACGCTGACGGCACTGGACTACTACGATCAGATCGTAAGCGCGCAGCTCGACGCTGTTCGTGCTTACTCGGACCTGAGTGTTGCCCAGGCCCGCACTTGGCTGGACGTGAAAGATGCCGACAGCTTCAAAAAGGCACTGGAAAGCCAGCAGAAAACTGCCAGTGATCTTTTGGAGCGTATGAAAGGCGATGGCGAGAAAGTTACTTCCATCAGCCAAAGCTTCATGAAAGACAGCCAGAAAATGGCCGAAGACACCACCAAGAAAGCGGTAGAAACGGCTAAGCAGTAA\n",
      "****Alignment****\n",
      "sequence: gi|1939914224|gb|CP065230.1| Halomonas sp. A40-4 chromosome, complete genome\n",
      "length: 4150502\n",
      "e value: 1.87679e-75\n",
      "GATGAACAAGGCCGCAGAGAAATCCACCCAGCAGTTTGAGTCTGTCTTTGTATCGCCAATGCGTTCTTATACCTTGGCAGCGCTTGACTACTATCAGCAGGTTGTTAGCGCGCAAATGGATGCAGCACGTGCTTACTCAGATATGACTATTGCCCAGGCACGTACATGGTTAGACGTGAAAGATGCCGACAGCTTCAAAAAAGCCATGGAAAGTCAGCAAAAAACAGCGTCTGACCTAATGGAGCGCATGAAAGGAGACTCTGAAAAAGTCACCTCTATTAGCCAAAACTTTATGCAAGAGAGTCAGAAAATGGCGGAAGAGACCACTAAAAAAGCAGTGGAAACTGCTAAGCAATAA\n",
      "|||||| || ||||| || ||| ||| ||||||  | |||||  ||||||||||||| ||||||||||| ||  || ||||||| ||||||||| | ||| | |||||||| ||  | || || |  ||||| ||||| ||| |||  ||||||||||| || || ||| | |||||||||||||||||||||||||| || || |||||||| ||||| ||| |  |    ||||| |||||||||||||| || ||    ||||||||||| || || ||||| | ||| ||  |||| || ||||||||||| ||||| ||||| || ||||| || || || || ||||| |||\n",
      "GATGAATAAAGCCGCCGAAAAAGCCAGCCAGCAAGTCGAGTCCATCTTTGTATCGCCGATGCGTTCTTACACGCTGACAGCGCTGGACTACTATGATCAGATCGTTAGCGCACAGCTTGACGCTGTTCGTGCCTACTCGGATCTGAGCATTGCCCAGGCTCGCACCTGGCTGGACGTGAAAGATGCCGACAGCTTCAAGAAGGCAATGGAAAGCCAGCAGAAAGCTACCAGCGACCTGATGGAGCGCATGAAGGGGGATGGCGAAAAAGTCACTTCCATCAGCCAGAGCTTCATCAAAGACAGCCAGAAAATGGCCGAAGATACCACCAAGAAAGCGGTAGAGACGGCCAAGCAGTAA\n",
      "****Alignment****\n",
      "sequence: gi|1894835969|gb|CP058321.1| Halomonas sp. SH5A2 chromosome, complete genome\n",
      "length: 3849224\n",
      "e value: 7.98031e-74\n",
      "GATGAACAAGGCCGCAGAGAAATCCACCCAGCAGTTTGAGTCTGTCTTTGTATCGCCAATGCGTTCTTATACCTTGGCAGCGCTTGACTACTATCAGCAGGTTGTTAGCGCGCAAATGGATGCAGCACGTGCTTACTCAGATATGACTATTGCCCAGGCACGTACATGGTTAGACGTGAAAGATGCCGACAGCTTCAAAAAAGCCATGGAAAGTCAGCAAAAAACAGCGTCTGACCTAATGGAGCGCATGAAAGGAGACTCTGAAAAAGTCACCTCTATTAGCCAAAACTTTATGCAAGAGAGTCAGAAAATGGCGGAAGAGACCACTAAAAAAGCAGTGGAAACTGCTAAGCAATAA\n",
      "|||||| || ||||| || ||| ||| ||||||  | |||||  ||||||||||||| ||||||||||| ||  || ||||||| ||||| ||  | ||| | |||||||| ||  | || || |  ||||| ||||| ||| |||  |||||||| ||||| || ||| | |||||||||||||| ||||||||||| ||||| |||||||| || || ||| |  |    ||||| |||||||||||||| || ||    ||||||||||| || || ||||||| ||| ||| |||| || ||||||||||| ||||| ||||| || ||||| || || || || ||||| |||\n",
      "GATGAATAAAGCCGCCGAAAAAGCCAGCCAGCAAGTCGAGTCCATCTTTGTATCGCCGATGCGTTCTTACACGCTGACAGCGCTGGACTATTACGATCAGATCGTTAGCGCACAGCTTGACGCTGTTCGTGCCTACTCGGATCTGAGCATTGCCCAAGCACGCACCTGGCTGGACGTGAAAGATGCTGACAGCTTCAAGAAAGCAATGGAAAGCCAACAGAAAGCCACCAGCGACCTGATGGAGCGCATGAAGGGGGATGGCGAAAAAGTCACTTCCATCAGCCAAAGCTTCATGAAAGACAGCCAGAAAATGGCCGAAGACACCACCAAGAAAGCGGTAGAGACGGCCAAGCAGTAA\n",
      "****Alignment****\n",
      "sequence: gi|1784845256|gb|CP039374.2| Halomonas titanicae strain ANRCS81 chromosome, complete genome\n",
      "length: 5327410\n",
      "e value: 1.44287e-70\n",
      "ATGAACAAGGCCGCAGAGAAATCCACCCAGCAGTTTGAGTCTGTCTTTGTATCGCCAATGCGTTCTTATACCTTGGCAGCGCTTGACTACTATCAGCAGGTTGTTAGCGCGCAAATGGATGCAGCACGTGCTTACTCAGATATGACTATTGCCCAGGCACGTACATGGTTAGACGTGAAAGATGCCGACAGCTTCAAAAAAGCCATGGAAAGTCAGCAAAAAACAGCGTCTGACCTAATGGAGCGCATGAAAGGAGACTCTGAAAAAGTCACCTCTATTAGCCAAAACTTTATGCAAGAGAGTCAGAAAATGGCGGAAGAGACCACTAAAAAAGCAGTGGAAACTGCTAAGCAATAA\n",
      "|||||||| ||  | |||||| |||| |||||||||||||| || ||||| || || ||||||||||| ||  || ||||||| || |||||| | ||| | ||||| || ||  | |||||||| ||||| ||||| || ||| | ||||| || || || || ||| | || || |||||  |||||||||||||||||||||||||||  ||||||||||| ||    ||  | ||||| ||  |||| || ||| | |||||||| || || ||  |||||| |||    ||||| || || |||||||| |||||||||||||| ||||| || || || || ||||| |||\n",
      "ATGAACAAAGCGACTGAGAAAACCACGCAGCAGTTTGAGTCCGTTTTTGTTTCACCGATGCGTTCTTACACGCTGACAGCGCTCGATTACTATGATCAGCTGGTTAGTGCACAGTTAGATGCAGCCCGTGCCTACTCGGACATGGCGATTGCGCAAGCGCGCACTTGGCTTGATGTCAAAGACCCCGACAGCTTCAAAAAAGCCATGGAAACCCAGCAAAAAACGGCTGGCGAATTTATGGAACGAGTGAAGGGCGACACGGAAAAAGTAACTTCCATCGGCCAAAGCTTCGCTCAAGACAGCCAAAAAATGGCAGAAGAGACCACTAAGAAAGCGGTAGAGACCGCCAAGCAGTAA\n",
      "****Alignment****\n",
      "sequence: gi|1233030604|gb|CP022737.1| Halomonas ventosae strain NRS2HaP1 genome\n",
      "length: 5030641\n",
      "e value: 1.44287e-70\n",
      "GATGAACAAGGC--CG-CAGAGAAATCCACCCAGCAGTTTGAGTCTGTCTTTGTATCGCCAATGCGTTCTTATACCTTGGCAGCGCTTGACTACTATCAGCAGGTTGTT-AGCGCGCAAATGGATGCAGCACGTGCTTACTCAGATATGACTATTGCCCAGGCACGTACATGGTTAGACGTGAAAGATGCCGACAGCTTCAAAAAAGCCATGGAAAGTCAGCAAAAAACAGCGTCTGACCTAATGGAGCGCATGAAAGGAGACTCTGAAAAAGTCACCTCTATTAGCCAAAACTTTATGCAAGAGAGTCAGAAAATGGCGGAAGAGACCACTAAAAAAGCAGTGGAAACTGCTAAGCAATAA\n",
      "|||||| || ||  || | || ||| |||  || |||||||||||||| ||||| || || ||||||||||| ||  || | |||||||| || ||| | || |||||| || || ||  ||||||| || ||||| ||||| || ||| | ||| | || || ||||| ||| | ||||| |||||  | |||||||||||||||||||||||||| ||||||||||| |||  |||  | |||||||| ||||| |||||| | |||||||||||||| || ||| ||| ||||  | |||| || |||||    |  |||||||||||||| ||||| || || ||||| ||||| |||\n",
      "GATGAATAAAGCAACGACTGATAAAACCAAGCAACAGTTTGAGTCTGTTTTTGTTTCACCGATGCGTTCTTACACACTGACTGCGCTTGATTATTATGACCA-GTTGTTCAGTGCTCAGTTGGATGCTGCCCGTGCCTACTCGGACATGGCGATTACACAAGCGCGTACTTGGCTTGACGTCAAAGACCCAGACAGCTTCAAAAAAGCCATGGAAAGCCAGCAAAAAACCGCGAGTGATTTTATGGAGCGGATGAAGGGAGACACGGAAAAAGTCACCTCCATCAGCAAAAGCTTTGCGGAAGATAGCCAGAAGCAAGTAGAAGAGACCACTAAGAAAGCGGTAGAGACTGCCAAGCAGTAA\n",
      "****Alignment****\n",
      "sequence: gi|802125597|emb|LN813019.1| Halomonas sp. R57-5 genome assembly HalomonasR57-5, chromosome : I\n",
      "length: 5031573\n",
      "e value: 1.44287e-70\n",
      "GATGAACAAGGC--CG-CAGAGAAATCCACCCAGCAGTTTGAGTCTGTCTTTGTATCGCCAATGCGTTCTTATACCTTGGCAGCGCTTGACTACTATCAGCAGGTTGTT-AGCGCGCAAATGGATGCAGCACGTGCTTACTCAGATATGACTATTGCCCAGGCACGTACATGGTTAGACGTGAAAGATGCCGACAGCTTCAAAAAAGCCATGGAAAGTCAGCAAAAAACAGCGTCTGACCTAATGGAGCGCATGAAAGGAGACTCTGAAAAAGTCACCTCTATTAGCCAAAACTTTATGCAAGAGAGTCAGAAAATGGCGGAAGAGACCACTAAAAAAGCAGTGGAAACTGCTAAGCAATAA\n",
      "|||||| || ||  || | || ||| |||  || |||||||||||||| ||||| || || ||||||||||| ||  || | |||||||| || ||| | || |||||| || || ||  ||||||| || ||||| ||||| || ||| | ||| | || || ||||| ||| | ||||| |||||  | |||||||||||||||||||||||||| ||||||||||| |||  |||  | |||||||| ||||| |||||| | |||||||||||||| || ||| ||| ||||  | |||| || |||||    |  |||||||||||||| ||||| || || ||||| ||||| |||\n",
      "GATGAATAAAGCAACGACTGATAAAACCAAGCAACAGTTTGAGTCTGTTTTTGTTTCACCGATGCGTTCTTACACACTGACTGCGCTTGATTATTATGACCA-GTTGTTCAGTGCTCAGTTGGATGCTGCCCGTGCCTACTCGGACATGGCGATTACACAAGCGCGTACTTGGCTTGACGTCAAAGACCCAGACAGCTTCAAAAAAGCCATGGAAAGCCAGCAAAAAACCGCGAGTGATTTTATGGAGCGGATGAAGGGAGACACGGAAAAAGTCACCTCCATCAGCAAAAGCTTTGCGGAAGATAGCCAGAAGCAAGTAGAAGAGACCACTAAGAAAGCGGTAGAGACTGCCAAGCAGTAA\n",
      "****Alignment****\n",
      "sequence: gi|1779946653|gb|CP040452.1| Halomonas sp. PA16-9 plasmid p_unnamed1, complete sequence\n",
      "length: 1833961\n",
      "e value: 1.75778e-69\n",
      "ATGAACAAGGCCGCAGAGAAATCCACCCAGCAGTTTGAGTCTGTCTTTGTATCGCCAATGCGTTCTTATACCTTGGCAGCGCTTGACTACTATCAGCAGGTTGTTAGCGCGCAAATGGATGCAGCACGTGCTTACTCAGATATGACTATTGCCCAGGCACGTACATGGTTAGACGTGAAAGATGCCGACAGCTTCAAAAAAGCCATGGAAAGTCAGCAAAAAACAGCGTCTGACCTAATGGAGCGCATGAAAGGAGACTCTGAAAAAGTCACCTCTATTAGCCAAAACTTTATGCAAGAGAGTCAGAAAATGGCGGAAGAGACCACTAAAAAAGCAGTGGAAACTGCTAAGCAATAA\n",
      "|||||||| ||  | |||||| |||| |||||||||||||| || ||||| || || ||||||||||| ||  || ||||||| || |||||| | ||| | || || || ||  | |||||||| ||||| ||||| || ||| | ||||| || || || || ||| | || || |||||  |||||||||||||||||||||||||||  ||||||||||| ||    ||  | ||||| ||  |||| || ||| | |||||||| || || ||  |||||| |||    ||||| || || |||||||| |||||||||||||| ||||| || || || || ||||| |||\n",
      "ATGAACAAAGCGACTGAGAAAACCACGCAGCAGTTTGAGTCCGTTTTTGTTTCACCGATGCGTTCTTACACGCTGACAGCGCTAGATTACTATGATCAGCTGGTGAGTGCACAGTTAGATGCAGCCCGTGCCTACTCGGACATGGCGATTGCGCAAGCGCGCACTTGGCTTGATGTCAAAGACCCCGACAGCTTCAAAAAAGCCATGGAAACCCAGCAAAAAACGGCTGGCGAATTTATGGAACGAGTGAAGGGCGACACGGAAAAAGTAACTTCCATCGGCCAAAGCTTCGCTCAAGACAGCCAAAAAATGGCAGAAGAGACCACTAAGAAAGCGGTAGAGACCGCCAAGCAGTAA\n",
      "****Alignment****\n",
      "sequence: gi|1907684619|gb|CP059082.1| Halomonas titanicae strain SOB56 chromosome, complete genome\n",
      "length: 5279693\n",
      "e value: 1.75778e-69\n",
      "ATGAACAAGGCCGCAGAGAAATCCACCCAGCAGTTTGAGTCTGTCTTTGTATCGCCAATGCGTTCTTATACCTTGGCAGCGCTTGACTACTATCAGCAGGTTGTTAGCGCGCAAATGGATGCAGCACGTGCTTACTCAGATATGACTATTGCCCAGGCACGTACATGGTTAGACGTGAAAGATGCCGACAGCTTCAAAAAAGCCATGGAAAGTCAGCAAAAAACAGCGTCTGACCTAATGGAGCGCATGAAAGGAGACTCTGAAAAAGTCACCTCTATTAGCCAAAACTTTATGCAAGAGAGTCAGAAAATGGCGGAAGAGACCACTAAAAAAGCAGTGGAAACTGCTAAGCAATAA\n",
      "|||||||| ||  | |||||| |||| |||||||||||||| || ||||| || || ||||||||||| ||  || ||||||| || |||||| | ||| | || || || ||  | |||||||| ||||| ||||| || ||| | ||||| || || || || ||| | || || |||||  |||||||||||||||||||||||||||  ||||||||||| ||    ||  | ||||| ||  |||| || ||| | |||||||| || || ||  |||||| |||    ||||| || || |||||||| |||||||||||||| ||||| || || || || ||||| |||\n",
      "ATGAACAAAGCGACTGAGAAAACCACGCAGCAGTTTGAGTCCGTTTTTGTTTCACCGATGCGTTCTTACACGCTGACAGCGCTCGATTACTATGATCAGCTGGTGAGTGCACAGTTAGATGCAGCCCGTGCCTACTCGGACATGGCGATTGCGCAAGCGCGCACTTGGCTTGATGTCAAAGACCCCGACAGCTTCAAAAAAGCCATGGAAACCCAGCAAAAAACGGCTGGCGAATTTATGGAACGAGTGAAGGGCGACACGGAAAAAGTAACTTCCATCGGCCAAAGCTTCGCTCAAGACAGCCAAAAAATGGCAGAAGAGACCACTAAGAAAGCGGTAGAGACCGCCAAGCAGTAA\n",
      "****Alignment****\n",
      "sequence: gi|1858297489|gb|CP054580.1| Halomonas titanicae strain GPM3 chromosome, complete genome\n",
      "length: 5695972\n",
      "e value: 9.10553e-67\n",
      "ATGAACAAGGCCGCAGAGAAATCCACCCAGCAGTTTGAGTCTGTCTTTGTATCGCCAATGCGTTCTTATACCTTGGCAGCGCTTGACTACTATCAGCAGGTTGTTAGCGCGCAAATGGATGCAGCACGTGCTTACTCAGATATGACTATTGCCCAGGCACGTACATGGTTAGACGTGAAAGATGCCGACAGCTTCAAAAAAGCCATGGAAAGTCAGCAAAAAACAGCGTCTGACCTAATGGAGCGCATGAAAGGAGACTCTGAAAAAGTCACCTCTATTAGCCAAAACTTTATGCAAGAGAGTCAGAAAATGGCGGAAGAGACCACTAAAAAAGCAGTGGAAACTGCTAAGCAATAA\n",
      "|||||||| ||  | |||||| |||| ||||||||||| || || ||||| || || ||||||||||| ||  || ||||||| || |||||| | ||| | || || || ||  | |||||||| ||||| ||||| || ||| | ||||| || || || || ||| | || || |||||  |||||||||||||||||||||||||||  ||||||||||| ||    ||  | ||||| ||  |||| || ||| | |||||||| || || ||  |||||| |||    ||||| || || || ||||| |||||||||||||| ||||| || || || || ||||| |||\n",
      "ATGAACAAAGCGACTGAGAAAACCACGCAGCAGTTTGATTCCGTTTTTGTTTCACCGATGCGTTCTTACACGCTGACAGCGCTCGATTACTATGATCAGCTGGTGAGTGCACAGTTAGATGCAGCCCGTGCCTACTCGGACATGGCGATTGCGCAAGCGCGCACTTGGCTTGATGTCAAAGACCCCGACAGCTTCAAAAAAGCCATGGAAACCCAGCAAAAAACGGCTGGCGAATTTATGGAACGAGTGAAGGGCGACACGGAAAAAGTAACTTCCATCGGCCAAAGCTTCGCTCAAGACAGCCAAAACATGGCAGAAGAGACCACTAAGAAAGCGGTAGAGACCGCCAAGCAGTAA\n",
      "****Alignment****\n",
      "sequence: gi|779736320|gb|CP011052.1| Halomonas sp. KO116, complete genome\n",
      "length: 4649248\n",
      "e value: 4.41768e-58\n",
      "ACCCAGCAGTTTGAGTCTGTCTTTGTATCGCCAATGCGTTCTTATACCTTGGCAGCGCTTGACTACTATCAGCAGGTTGTTAGCGCGCAAATGGATGCAGCACGTGCTTACTCAGATATGACTATTGCCCAGGCACGTACATGGTTAGACGTGAAAGATGCCGACAGCTTCAAAAAAGCCATGGAAAGTCAGCAAAAAACAGCGTCTGACCTAATGGAGCGCATGAAAGGAGACTCTGAAAAAGTCACCTCTATTAGCCAAAACTTTATGCAAGAGAGTCAGAAAATGGCGGAAGAGACCACTAAAAAAGCAGTGGAAACTGCTAAGCA\n",
      "|| || ||||||||||| |  ||||| || || ||||||||||| ||  |  |||| ||||| |||||  | ||| || | || || |||||||| ||    ||||| ||||| |||||| | ||| | || || || || ||| | || || |||||||| |||||||||||||| |||||||| || ||||| ||||| ||    ||  | ||||||||  |||| || ||| |||||||||| || || ||  |||||| ||||   ||||| || || |||||||| ||||| ||| |||||||||| || || ||||| |||||\n",
      "ACGCAACAGTTTGAGTCCGCATTTGTTTCACCCATGCGTTCTTACACGCTAACAGCCCTTGATTACTACGATCAGCTTTTCAGTGCACAAATGGACGCTTTCCGTGCCTACTCTGATATGGCAATTTCACAAGCGCGCACTTGGCTTGATGTAAAAGATGCAGACAGCTTCAAAAAGGCCATGGAGAGCCAGCAGAAAACGGCTGGCGAGTTTATGGAGCGAGTGAAGGGCGACACTGAAAAAGTGACTTCCATCGGCCAAAGCTTTGCTCAAGACAGCCAAAAAATGGCAGAAGAAACCTCTAAAAAAGCGGTAGAGACTGCCAAGCA\n",
      "****Alignment****\n",
      "sequence: gi|1569335781|dbj|AP019416.1| Halomonas olivaria TYRC17 DNA, complete genome\n",
      "length: 4998083\n",
      "e value: 2.28842e-55\n",
      "TGATGAACAAGGCCGCAGAGAAATCCACCCAGCAGTTTGAGTCTGTCTTTGTATCGCCAATGCGTTCTTATACCTTGGCAGCGCTTGACTACTATCAGCAGGTTGTT-AGCGCGCAAATGGATGCAGCACGTGCTTACTCAGATATGACTATTGCCCAGGCACGTACATGGTTAGACGTGAAAGATGCCGACAGCTTCAAAAAAGCCATGGAAAGTCAGCAAAAAACAGCGTCTGACCTAATGGAGCGCATGAAAGGAGACTCTGAAAAAGTCACCTCTATTAGCCAAAACTTTATGC--AAGAGAGTCAGAAAATGGCGGAAGAGACCACTAAAAAAGCAGTGGAAACTGCTAAGCAATAA\n",
      "||||||| || ||  | || ||| |||| |||||||| ||||| || ||||| || || ||||| ||||| ||  || | ||||| || || ||| | ||| ||||| || || || |||||||| || ||||| ||||| |||||| | ||||| || || || || ||| | ||||| |||||  ||||||||||| |||| ||  ||||||| ||||| ||||| |||   ||  | ||||||||| | ||||| ||| | |||||||||| ||| || || ||||| ||| |||  |||| || |||||    |  ||||| || ||||| ||||| || || ||||| ||||| |||\n",
      "TGATGAATAAAGCAACTGATAAAACCACGCAGCAGTTCGAGTCCGT-TTTGTTTCACCGATGCGCTCTTACACACTGACCGCGCTGGATTATTATGACCAG-TTGTTCAGTGCCCAGATGGATGCCGCTCGTGCCTACTCGGATATGGCGATTGCGCAAGCGCGCACTTGGCTTGACGTAAAAGACCCCGACAGCTTC-AAAAGGCTCTGGAAAGCCAGCAGAAAACGGCGAGCGATTTCATGGAGCGCGTAAAAGGCGACACGGAAAAAGTCA-CTCCATCAG-CAAAAGTTT-TGCTGAAGATAGCCAGAAGCAAGTAGAAGAAACTACTAAGAAAGCGGTAGAGACTGCCAAGCAGTAA\n",
      "****Alignment****\n",
      "sequence: gi|1594370202|dbj|AP019514.1| Halomonas sulfidaeris ATCC BAA-803 DNA, complete genome\n",
      "length: 4207221\n",
      "e value: 3.18095e-47\n",
      "TGAACAAGGCCGCAGAGAAATCCACCCAGCAGTTTGAGTCTGTCTTTGTATCGCCAATGCGTTCTTATACCTTGGCAGCGCTTGACTACTATCAGCAGGTTGTTAGCGCGCAAATGGATGCAGCACGTGCTTACTCAGATATGACTATTGCCCAGGCACGTACATGGTTAGACGTGAAAGATGCCGACAGCTTCAAAAAAGCCATGGAAAGTCAGCAAAAAACAGCGTCTGACCTAATGGAGCGCATGAAAGGAGACTCTGAAAAAGTCACCTCTATTAGCCAAAACTTTATGCAAGAGAGTCAGAAAATGGCGGAAGAGACCACTAAAAAAGCAGTGGAAACTGCTAAGCAATAA\n",
      "|||| || ||  | || ||| |||| ||||||||||| || |  ||||| || || ||||||||||| ||  |  | |||||||| |||||  | ||| |  |||| || |||||||||||    ||||| ||||| || ||| ||||  | || ||||| |||||| | || || ||||| |||||||| ||||| || || |||||||| ||||| ||||| ||     |  | ||||| ||| | || || ||  ||| |||||| || || ||  | |||| ||||   ||||| || || ||   ||| ||||| ||||||||||| |  |  ||||  || |||||||||\n",
      "TGAATAAAGCGACTGATAAAACCACACAGCAGTTTGAATCAGCATTTGTGTCACCCATGCGTTCTTACACACTAACGGCGCTTGATTACTACGATCAGCTATTTAGTGCACAAATGGATGCTTTCCGTGCCTACTCGGACATGGCTATCTCGCAAGCACGCACATGGCTTGATGTAAAAGACGCCGACAGTTTCAAGAAGGCGATGGAAAGCCAGCAGAAAACGGCAAGCAATTTCATGGAACGCGTTAAGGGCGATACTG-AAAAGTAACGTCAATCGGTCAAAGCTTTGCTCAAGATAGCCAAAAGCAGGCTGAAGAAACCACTAAAAACGTGGCAGAAAAAGCAAAGCAATAA\n"
     ]
    }
   ],
   "source": [
    "E_threshold = 0.01\n",
    "for alignment in blast_record.alignments:\n",
    "    for hsp in alignment.hsps:\n",
    "        if hsp.expect < E_threshold:\n",
    "            print('****Alignment****')\n",
    "            print('sequence:', alignment.title)\n",
    "            print('length:', alignment.length)\n",
    "            print('e value:', hsp.expect)\n",
    "            print(hsp.query)\n",
    "            print(hsp.match)\n",
    "            print(hsp.sbjct)"
   ]
  },
  {
   "cell_type": "code",
   "execution_count": 91,
   "metadata": {},
   "outputs": [
    {
     "data": {
      "text/plain": [
       "1198031.0"
      ]
     },
     "execution_count": 91,
     "metadata": {},
     "output_type": "execute_result"
    }
   ],
   "source": [
    "df.at[1002,'Start']"
   ]
  },
  {
   "cell_type": "code",
   "execution_count": 37,
   "metadata": {},
   "outputs": [
    {
     "ename": "AttributeError",
     "evalue": "'list' object has no attribute 'hsps'",
     "output_type": "error",
     "traceback": [
      "\u001b[0;31m---------------------------------------------------------------------------\u001b[0m",
      "\u001b[0;31mAttributeError\u001b[0m                            Traceback (most recent call last)",
      "\u001b[0;32m<ipython-input-37-a9d80fb16a58>\u001b[0m in \u001b[0;36m<module>\u001b[0;34m\u001b[0m\n\u001b[0;32m----> 1\u001b[0;31m \u001b[0mblast_record\u001b[0m\u001b[0;34m.\u001b[0m\u001b[0malignments\u001b[0m\u001b[0;34m.\u001b[0m\u001b[0mhsps\u001b[0m\u001b[0;34m[\u001b[0m\u001b[0;36m0\u001b[0m\u001b[0;34m]\u001b[0m\u001b[0;34m\u001b[0m\u001b[0;34m\u001b[0m\u001b[0m\n\u001b[0m",
      "\u001b[0;31mAttributeError\u001b[0m: 'list' object has no attribute 'hsps'"
     ]
    }
   ],
   "source": [
    "blast_record.alignments.hsps[0]\n"
   ]
  }
 ],
 "metadata": {
  "kernelspec": {
   "display_name": "Python 3",
   "language": "python",
   "name": "python3"
  },
  "language_info": {
   "codemirror_mode": {
    "name": "ipython",
    "version": 3
   },
   "file_extension": ".py",
   "mimetype": "text/x-python",
   "name": "python",
   "nbconvert_exporter": "python",
   "pygments_lexer": "ipython3",
   "version": "3.7.3"
  }
 },
 "nbformat": 4,
 "nbformat_minor": 2
}
