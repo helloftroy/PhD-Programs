{
 "cells": [
  {
   "cell_type": "code",
   "execution_count": 3,
   "metadata": {},
   "outputs": [],
   "source": [
    "from escher import Builder\n",
    "from IPython.display import display\n",
    "import cobra\n",
    "import pandas as pd\n",
    "from cobra.io import read_sbml_model, write_sbml_model, save_json_model, load_json_model\n",
    "import json"
   ]
  },
  {
   "cell_type": "code",
   "execution_count": null,
   "metadata": {},
   "outputs": [],
   "source": [
    "model = cobra.test.read_sbml_model('/Users/hellpark/Desktop/Bioinformatics/model_objects/HalomonasBaseModel.sbml')\n",
    "write_sbml_model(model, '/Users/hellpark/Desktop/Bioinformatics/model_objects/HalomonasCOBRAModel.sbml')\n",
    "save_json_model(model, '/Users/hellpark/Desktop/Bioinformatics/model_objects/HalomonasCOBRAModel.json')"
   ]
  },
  {
   "cell_type": "code",
   "execution_count": null,
   "metadata": {},
   "outputs": [],
   "source": [
    "# update the reaction names with the BIGG name\n",
    "df = pd.ExcelFile('/Users/hellpark/Desktop/Bioinformatics/model_objects/HalomonasBaseModel.xls').parse('ModelReactions')\n",
    "df.head()"
   ]
  },
  {
   "cell_type": "code",
   "execution_count": null,
   "metadata": {},
   "outputs": [],
   "source": [
    "dfcomp = pd.ExcelFile('/Users/hellpark/Desktop/Bioinformatics/model_objects/HalomonasBaseModel.xls').parse('ModelCompounds')\n",
    "dfcomp.head()    "
   ]
  },
  {
   "cell_type": "code",
   "execution_count": null,
   "metadata": {},
   "outputs": [],
   "source": [
    "#replace all compounds with the bigg representation\n",
    "for i in dfcomp.index:\n",
    "    if dfcomp.at[i, 'BIGG'] is not None:\n",
    "        oldcompoundid = dfcomp.at[i, 'id']\n",
    "        for met in model.metabolites:\n",
    "            if met.id == oldcompoundid:\n",
    "                if str(dfcomp.at[i, 'BIGG']) != 'nan':\n",
    "                    met.id = str(dfcomp.at[i, 'BIGG'])"
   ]
  },
  {
   "cell_type": "code",
   "execution_count": null,
   "metadata": {},
   "outputs": [],
   "source": [
    "#replace all the reactions with BIGG representation\n",
    "for i in df.index:\n",
    "    if df.at[i,'bigg id'] is not None:\n",
    "        oldrxnid = df.at[i,'id']\n",
    "        for reaction in model.reactions:\n",
    "            if reaction.id == oldrxnid:\n",
    "                if str(df.at[i,'bigg id']) != 'nan':\n",
    "                    #print(df.at[i,'bigg id'])\n",
    "                    reaction.id = str(df.at[i,'bigg id'])"
   ]
  },
  {
   "cell_type": "code",
   "execution_count": null,
   "metadata": {},
   "outputs": [],
   "source": [
    "#### below converts json to a cvs from halomonas annotated from kbase"
   ]
  },
  {
   "cell_type": "code",
   "execution_count": 4,
   "metadata": {},
   "outputs": [],
   "source": [
    "\n",
    "    \n",
    "with open('/Users/hellpark/Downloads/HalomonasAnnotated/4.json','r') as f:\n",
    "    data = json.loads(f.read())"
   ]
  },
  {
   "cell_type": "code",
   "execution_count": null,
   "metadata": {},
   "outputs": [],
   "source": [
    "multiple_level_data = pd.json_normalize(data, record_path =['cdss'], meta =['assembly_ref'], meta_prefix='config_params_', record_prefix='dbscan_')\n",
    "multiple_level_data.to_csv('/Users/hellpark/Downloads/HalomonasAnnotated/multiplelevel_normalized_data.csv', index=False)"
   ]
  },
  {
   "cell_type": "code",
   "execution_count": 8,
   "metadata": {},
   "outputs": [
    {
     "ename": "AttributeError",
     "evalue": "'list' object has no attribute 'keys'",
     "output_type": "error",
     "traceback": [
      "\u001b[0;31m---------------------------------------------------------------------------\u001b[0m",
      "\u001b[0;31mAttributeError\u001b[0m                            Traceback (most recent call last)",
      "\u001b[0;32m<ipython-input-8-3d2b2c7c21fc>\u001b[0m in \u001b[0;36m<module>\u001b[0;34m\u001b[0m\n\u001b[1;32m     18\u001b[0m \u001b[0mjson_data\u001b[0m \u001b[0;34m=\u001b[0m \u001b[0mpd\u001b[0m\u001b[0;34m.\u001b[0m\u001b[0mjson_normalize\u001b[0m\u001b[0;34m(\u001b[0m\u001b[0mdata\u001b[0m\u001b[0;34m)\u001b[0m\u001b[0;34m\u001b[0m\u001b[0;34m\u001b[0m\u001b[0m\n\u001b[1;32m     19\u001b[0m \u001b[0mjson_list\u001b[0m \u001b[0;34m=\u001b[0m \u001b[0;34m[\u001b[0m\u001b[0mj\u001b[0m\u001b[0;34m[\u001b[0m\u001b[0;36m1\u001b[0m\u001b[0;34m]\u001b[0m\u001b[0;34m[\u001b[0m\u001b[0;36m0\u001b[0m\u001b[0;34m]\u001b[0m \u001b[0;32mfor\u001b[0m \u001b[0mj\u001b[0m \u001b[0;32min\u001b[0m \u001b[0mjson_data\u001b[0m\u001b[0;34m.\u001b[0m\u001b[0miterrows\u001b[0m\u001b[0;34m(\u001b[0m\u001b[0;34m)\u001b[0m\u001b[0;34m]\u001b[0m\u001b[0;34m\u001b[0m\u001b[0;34m\u001b[0m\u001b[0m\n\u001b[0;32m---> 20\u001b[0;31m \u001b[0mparsed_list\u001b[0m \u001b[0;34m=\u001b[0m \u001b[0;34m[\u001b[0m\u001b[0mparse_nested_json\u001b[0m\u001b[0;34m(\u001b[0m\u001b[0mj\u001b[0m\u001b[0;34m)\u001b[0m \u001b[0;32mfor\u001b[0m \u001b[0mj\u001b[0m \u001b[0;32min\u001b[0m \u001b[0mjson_list\u001b[0m\u001b[0;34m]\u001b[0m\u001b[0;34m\u001b[0m\u001b[0;34m\u001b[0m\u001b[0m\n\u001b[0m\u001b[1;32m     21\u001b[0m \u001b[0mresult\u001b[0m \u001b[0;34m=\u001b[0m \u001b[0mpd\u001b[0m\u001b[0;34m.\u001b[0m\u001b[0mDataFrame\u001b[0m\u001b[0;34m(\u001b[0m\u001b[0mparsed_list\u001b[0m\u001b[0;34m)\u001b[0m\u001b[0;34m\u001b[0m\u001b[0;34m\u001b[0m\u001b[0m\n\u001b[1;32m     22\u001b[0m \u001b[0mresult\u001b[0m\u001b[0;34m.\u001b[0m\u001b[0mto_csv\u001b[0m\u001b[0;34m(\u001b[0m\u001b[0;34m\"/Users/hellpark/Desktop/Bioinformatics/model_objects/my_csv_file.csv\"\u001b[0m\u001b[0;34m,\u001b[0m \u001b[0mindex\u001b[0m\u001b[0;34m=\u001b[0m\u001b[0;32mFalse\u001b[0m\u001b[0;34m)\u001b[0m\u001b[0;34m\u001b[0m\u001b[0;34m\u001b[0m\u001b[0m\n",
      "\u001b[0;32m<ipython-input-8-3d2b2c7c21fc>\u001b[0m in \u001b[0;36m<listcomp>\u001b[0;34m(.0)\u001b[0m\n\u001b[1;32m     18\u001b[0m \u001b[0mjson_data\u001b[0m \u001b[0;34m=\u001b[0m \u001b[0mpd\u001b[0m\u001b[0;34m.\u001b[0m\u001b[0mjson_normalize\u001b[0m\u001b[0;34m(\u001b[0m\u001b[0mdata\u001b[0m\u001b[0;34m)\u001b[0m\u001b[0;34m\u001b[0m\u001b[0;34m\u001b[0m\u001b[0m\n\u001b[1;32m     19\u001b[0m \u001b[0mjson_list\u001b[0m \u001b[0;34m=\u001b[0m \u001b[0;34m[\u001b[0m\u001b[0mj\u001b[0m\u001b[0;34m[\u001b[0m\u001b[0;36m1\u001b[0m\u001b[0;34m]\u001b[0m\u001b[0;34m[\u001b[0m\u001b[0;36m0\u001b[0m\u001b[0;34m]\u001b[0m \u001b[0;32mfor\u001b[0m \u001b[0mj\u001b[0m \u001b[0;32min\u001b[0m \u001b[0mjson_data\u001b[0m\u001b[0;34m.\u001b[0m\u001b[0miterrows\u001b[0m\u001b[0;34m(\u001b[0m\u001b[0;34m)\u001b[0m\u001b[0;34m]\u001b[0m\u001b[0;34m\u001b[0m\u001b[0;34m\u001b[0m\u001b[0m\n\u001b[0;32m---> 20\u001b[0;31m \u001b[0mparsed_list\u001b[0m \u001b[0;34m=\u001b[0m \u001b[0;34m[\u001b[0m\u001b[0mparse_nested_json\u001b[0m\u001b[0;34m(\u001b[0m\u001b[0mj\u001b[0m\u001b[0;34m)\u001b[0m \u001b[0;32mfor\u001b[0m \u001b[0mj\u001b[0m \u001b[0;32min\u001b[0m \u001b[0mjson_list\u001b[0m\u001b[0;34m]\u001b[0m\u001b[0;34m\u001b[0m\u001b[0;34m\u001b[0m\u001b[0m\n\u001b[0m\u001b[1;32m     21\u001b[0m \u001b[0mresult\u001b[0m \u001b[0;34m=\u001b[0m \u001b[0mpd\u001b[0m\u001b[0;34m.\u001b[0m\u001b[0mDataFrame\u001b[0m\u001b[0;34m(\u001b[0m\u001b[0mparsed_list\u001b[0m\u001b[0;34m)\u001b[0m\u001b[0;34m\u001b[0m\u001b[0;34m\u001b[0m\u001b[0m\n\u001b[1;32m     22\u001b[0m \u001b[0mresult\u001b[0m\u001b[0;34m.\u001b[0m\u001b[0mto_csv\u001b[0m\u001b[0;34m(\u001b[0m\u001b[0;34m\"/Users/hellpark/Desktop/Bioinformatics/model_objects/my_csv_file.csv\"\u001b[0m\u001b[0;34m,\u001b[0m \u001b[0mindex\u001b[0m\u001b[0;34m=\u001b[0m\u001b[0;32mFalse\u001b[0m\u001b[0;34m)\u001b[0m\u001b[0;34m\u001b[0m\u001b[0;34m\u001b[0m\u001b[0m\n",
      "\u001b[0;32m<ipython-input-8-3d2b2c7c21fc>\u001b[0m in \u001b[0;36mparse_nested_json\u001b[0;34m(json_d)\u001b[0m\n\u001b[1;32m      6\u001b[0m \u001b[0;32mdef\u001b[0m \u001b[0mparse_nested_json\u001b[0m\u001b[0;34m(\u001b[0m\u001b[0mjson_d\u001b[0m\u001b[0;34m)\u001b[0m\u001b[0;34m:\u001b[0m\u001b[0;34m\u001b[0m\u001b[0;34m\u001b[0m\u001b[0m\n\u001b[1;32m      7\u001b[0m     \u001b[0mresult\u001b[0m \u001b[0;34m=\u001b[0m \u001b[0;34m{\u001b[0m\u001b[0;34m}\u001b[0m\u001b[0;34m\u001b[0m\u001b[0;34m\u001b[0m\u001b[0m\n\u001b[0;32m----> 8\u001b[0;31m     \u001b[0;32mfor\u001b[0m \u001b[0mkey\u001b[0m \u001b[0;32min\u001b[0m \u001b[0mjson_d\u001b[0m\u001b[0;34m.\u001b[0m\u001b[0mkeys\u001b[0m\u001b[0;34m(\u001b[0m\u001b[0;34m)\u001b[0m\u001b[0;34m:\u001b[0m\u001b[0;34m\u001b[0m\u001b[0;34m\u001b[0m\u001b[0m\n\u001b[0m\u001b[1;32m      9\u001b[0m         \u001b[0;32mif\u001b[0m \u001b[0;32mnot\u001b[0m \u001b[0misinstance\u001b[0m\u001b[0;34m(\u001b[0m\u001b[0mjson_d\u001b[0m\u001b[0;34m[\u001b[0m\u001b[0mkey\u001b[0m\u001b[0;34m]\u001b[0m\u001b[0;34m,\u001b[0m \u001b[0mdict\u001b[0m\u001b[0;34m)\u001b[0m\u001b[0;34m:\u001b[0m\u001b[0;34m\u001b[0m\u001b[0;34m\u001b[0m\u001b[0m\n\u001b[1;32m     10\u001b[0m             \u001b[0mresult\u001b[0m\u001b[0;34m[\u001b[0m\u001b[0mkey\u001b[0m\u001b[0;34m]\u001b[0m \u001b[0;34m=\u001b[0m \u001b[0mjson_d\u001b[0m\u001b[0;34m[\u001b[0m\u001b[0mkey\u001b[0m\u001b[0;34m]\u001b[0m\u001b[0;34m\u001b[0m\u001b[0;34m\u001b[0m\u001b[0m\n",
      "\u001b[0;31mAttributeError\u001b[0m: 'list' object has no attribute 'keys'"
     ]
    }
   ],
   "source": [
    "\n",
    "#chalmers model\n",
    "with open('/Users/hellpark/Desktop/Bioinformatics/model_objects/Chalmers_halov1.json','r') as f:\n",
    "    data = json.loads(f.read())\n",
    "    \n",
    "    \n",
    "def parse_nested_json(json_d):\n",
    "    result = {}\n",
    "    for key in json_d.keys():\n",
    "        if not isinstance(json_d[key], dict):\n",
    "            result[key] = json_d[key]\n",
    "        else:\n",
    "            result.update(parse_nested_json(json_d[key]))\n",
    "    return result\n",
    "    \n",
    "    \n",
    "    \n",
    "    \n",
    "json_data = pd.json_normalize(data)\n",
    "json_list = [j[1][0] for j in json_data.iterrows()]\n",
    "parsed_list = [parse_nested_json(j) for j in json_list]\n",
    "result = pd.DataFrame(parsed_list)\n",
    "result.to_csv(\"/Users/hellpark/Desktop/Bioinformatics/model_objects/my_csv_file.csv\", index=False)"
   ]
  },
  {
   "cell_type": "code",
   "execution_count": 12,
   "metadata": {},
   "outputs": [],
   "source": [
    "multiple_level_data = pd.json_normalize(data, meta =['metabolites'], meta_prefix='config_params_', record_prefix='dbscan_')\n",
    "\n",
    "normalized_df.to_csv('/Users/hellpark/Desktop/Bioinformatics/model_objects/my_csv_file2.csv',index=False)"
   ]
  },
  {
   "cell_type": "code",
   "execution_count": null,
   "metadata": {},
   "outputs": [],
   "source": []
  },
  {
   "cell_type": "code",
   "execution_count": null,
   "metadata": {},
   "outputs": [],
   "source": []
  },
  {
   "cell_type": "code",
   "execution_count": null,
   "metadata": {},
   "outputs": [],
   "source": []
  },
  {
   "cell_type": "code",
   "execution_count": null,
   "metadata": {},
   "outputs": [],
   "source": []
  },
  {
   "cell_type": "code",
   "execution_count": null,
   "metadata": {},
   "outputs": [],
   "source": [
    "#### below reads in two excel pages of halomonas and finds the amino acid sequences in order to compare the CDS between models"
   ]
  },
  {
   "cell_type": "code",
   "execution_count": null,
   "metadata": {},
   "outputs": [],
   "source": [
    "dfkbase = pd.ExcelFile('/Users/hellpark/Desktop/Bioinformatics/model_objects/HalomonasBaseModel.xlsm').parse('Halomonas WT TD01 Annotations')\n",
    "dfkbase.head()"
   ]
  },
  {
   "cell_type": "code",
   "execution_count": null,
   "metadata": {},
   "outputs": [],
   "source": [
    "dfchalm = pd.ExcelFile('/Users/hellpark/Desktop/Bioinformatics/model_objects/HalomonasBaseModel.xlsm').parse('OMICs')\n",
    "dfchalm.head()"
   ]
  },
  {
   "cell_type": "code",
   "execution_count": null,
   "metadata": {},
   "outputs": [],
   "source": [
    "# make a new column in halomonas kbase with the td1.0 data\n",
    "for i in dfchalm.index:\n",
    "    #td = dfchalm.at[i,'Fasta Number']\n",
    "    tdn = dfchalm.at[i,'AA with *']\n",
    "    for j in dfkbase.index:\n",
    "        #ha = dfkbase.at[j,'Halomonas CDS']\n",
    "        han = dfkbase.at[j,'Annotated translation']\n",
    "        if str(han) in str(tdn):\n",
    "            td = dfchalm.at[i,'Halomonas WT ann name'] = dfkbase.at[j,'Halomonas CDS']    "
   ]
  },
  {
   "cell_type": "code",
   "execution_count": null,
   "metadata": {},
   "outputs": [],
   "source": [
    "for i in dfchalm.index:\n",
    "    #td = dfchalm.at[i,'Fasta Number']\n",
    "    tdn = dfchalm.at[i,'AA with *']\n",
    "    for j in dfkbase.index:\n",
    "        #ha = dfkbase.at[j,'Halomonas CDS']\n",
    "        han = dfkbase.at[j,'Annotated translation']\n",
    "        if str(tdn) in str(han):\n",
    "            td = dfchalm.at[i,'Halomonas WT ann name'] = dfkbase.at[j,'Halomonas CDS']\n",
    "dfchalm.head()"
   ]
  },
  {
   "cell_type": "code",
   "execution_count": null,
   "metadata": {},
   "outputs": [],
   "source": [
    "#save again as text file\n",
    "dfchalm.to_csv(path_or_buf='/Users/hellpark/Desktop/Bioinformatics/model_objects/np.csv')  "
   ]
  },
  {
   "cell_type": "code",
   "execution_count": null,
   "metadata": {},
   "outputs": [],
   "source": [
    "# below takes in and takes the difference in proteomics data, then ranks / sorta based on biggest change"
   ]
  },
  {
   "cell_type": "code",
   "execution_count": null,
   "metadata": {},
   "outputs": [],
   "source": [
    "ok = pd.read_excel(r'/Users/hellpark/Desktop/Bioinformatics/model_objects/HalomonasBaseModel.xlsm', \n",
    "                   sheet_name = 'OMICs')"
   ]
  },
  {
   "cell_type": "code",
   "execution_count": null,
   "metadata": {},
   "outputs": [],
   "source": [
    "ok = pd.DataFrame(ok, columns=['Fasta Number','Halomonas WT ann name',\n",
    "                                'Description in brief','NaCl  60g/L Protein pgDW', 'NaCl  20g/L Protein pgDW',\n",
    "                                 'NaCl  100g/L Protein pgDW','Urea 3.6g/L Protein pgDW','Fermentation 9h Protein pgDW',\n",
    "                                   'Fermentation 19h Protein pgDW','Fermentation 30h Protein pgDW','NaCl  60g/L RPKM',\n",
    "                                    'NaCl  20g/L RPKM','NaCl  100g/L RPKM','Urea 3.6g/L RPKM','Fermentation 9h RPKM','Fermentation 19h RPKM',\n",
    "                                    'Fermentation 30h RPKM', 'fold change'])"
   ]
  },
  {
   "cell_type": "code",
   "execution_count": null,
   "metadata": {},
   "outputs": [],
   "source": [
    "ok[104:107]\n",
    "ok['fold change'] = (ok['NaCl  20g/L Protein pgDW']-ok['NaCl  60g/L Protein pgDW'])/ok['NaCl  60g/L Protein pgDW']"
   ]
  },
  {
   "cell_type": "code",
   "execution_count": null,
   "metadata": {},
   "outputs": [],
   "source": [
    "ok = ok.sort_values('fold change')"
   ]
  },
  {
   "cell_type": "code",
   "execution_count": null,
   "metadata": {},
   "outputs": [],
   "source": [
    "# make a venn diagram\n",
    "import matplotlib.pyplot as plt\n",
    "from matplotlib_venn import venn2\n",
    "venn2(subsets = (22, 125,3833), set_labels = ('left=Halo Base / ', 'right=Chalmers GEM'))\n",
    "plt.show()"
   ]
  },
  {
   "cell_type": "code",
   "execution_count": null,
   "metadata": {},
   "outputs": [],
   "source": [
    "venn2(subsets = (22, 5, 2236), set_labels = ('left=Halo Base / ', 'right=Chalmers GEM'))\n",
    "plt.show()"
   ]
  },
  {
   "cell_type": "code",
   "execution_count": null,
   "metadata": {},
   "outputs": [],
   "source": [
    "# load an escher map\n",
    "!curl --silent file:///Users/hellpark/Desktop/Bioinformatics/model_objects/HalomonasCOBRAModel.json > HalomonasCOBRAModel.json\n",
    "model = cobra.io.load_json_model('HalomonasCOBRAModel.json')\n",
    "difference_map = Builder(map_name='e_coli_core.Core metabolism')"
   ]
  },
  {
   "cell_type": "code",
   "execution_count": null,
   "metadata": {},
   "outputs": [],
   "source": [
    "#add the model i'm working on, and highlight missing parts\n",
    "difference_map.model_json = 'HalomonasCOBRAModel.json'\n",
    "difference_map.highlight_missing = True"
   ]
  }
 ],
 "metadata": {
  "kernelspec": {
   "display_name": "Python 3",
   "language": "python",
   "name": "python3"
  },
  "language_info": {
   "codemirror_mode": {
    "name": "ipython",
    "version": 3
   },
   "file_extension": ".py",
   "mimetype": "text/x-python",
   "name": "python",
   "nbconvert_exporter": "python",
   "pygments_lexer": "ipython3",
   "version": "3.7.3"
  }
 },
 "nbformat": 4,
 "nbformat_minor": 2
}
